{
 "cells": [
  {
   "cell_type": "code",
   "execution_count": 238,
   "metadata": {},
   "outputs": [],
   "source": [
    "import pandas as pd\n",
    "import numpy as np\n",
    "import seaborn as sns\n",
    "from matplotlib import pyplot as plt\n",
    "%matplotlib inline"
   ]
  },
  {
   "cell_type": "code",
   "execution_count": 2,
   "metadata": {},
   "outputs": [],
   "source": [
    "df = pd.read_csv(\"train.csv\")\n",
    "df = df.drop(columns=[\"OutcomeSubtype\",\"AnimalID\"])\n",
    "target = \"OutcomeType\""
   ]
  },
  {
   "cell_type": "code",
   "execution_count": 3,
   "metadata": {},
   "outputs": [],
   "source": [
    "target_dict = {\n",
    "    \"Adoption\": 0,\n",
    "\"Transfer\": 1,\n",
    "\"Return_to_owner\": 2, \n",
    "\"Euthanasia\":3,\n",
    "\"Died\":4\n",
    "}"
   ]
  },
  {
   "cell_type": "code",
   "execution_count": 4,
   "metadata": {},
   "outputs": [],
   "source": [
    "df[target] = df[target].map(target_dict)"
   ]
  },
  {
   "cell_type": "markdown",
   "metadata": {},
   "source": [
    "## EDA"
   ]
  },
  {
   "cell_type": "code",
   "execution_count": 5,
   "metadata": {},
   "outputs": [
    {
     "data": {
      "text/html": [
       "<div>\n",
       "<style scoped>\n",
       "    .dataframe tbody tr th:only-of-type {\n",
       "        vertical-align: middle;\n",
       "    }\n",
       "\n",
       "    .dataframe tbody tr th {\n",
       "        vertical-align: top;\n",
       "    }\n",
       "\n",
       "    .dataframe thead th {\n",
       "        text-align: right;\n",
       "    }\n",
       "</style>\n",
       "<table border=\"1\" class=\"dataframe\">\n",
       "  <thead>\n",
       "    <tr style=\"text-align: right;\">\n",
       "      <th></th>\n",
       "      <th>Name</th>\n",
       "      <th>DateTime</th>\n",
       "      <th>OutcomeType</th>\n",
       "      <th>AnimalType</th>\n",
       "      <th>SexuponOutcome</th>\n",
       "      <th>AgeuponOutcome</th>\n",
       "      <th>Breed</th>\n",
       "      <th>Color</th>\n",
       "    </tr>\n",
       "  </thead>\n",
       "  <tbody>\n",
       "    <tr>\n",
       "      <th>0</th>\n",
       "      <td>Hambone</td>\n",
       "      <td>2014-02-12 18:22:00</td>\n",
       "      <td>2</td>\n",
       "      <td>Dog</td>\n",
       "      <td>Neutered Male</td>\n",
       "      <td>1 year</td>\n",
       "      <td>Shetland Sheepdog Mix</td>\n",
       "      <td>Brown/White</td>\n",
       "    </tr>\n",
       "    <tr>\n",
       "      <th>1</th>\n",
       "      <td>Emily</td>\n",
       "      <td>2013-10-13 12:44:00</td>\n",
       "      <td>3</td>\n",
       "      <td>Cat</td>\n",
       "      <td>Spayed Female</td>\n",
       "      <td>1 year</td>\n",
       "      <td>Domestic Shorthair Mix</td>\n",
       "      <td>Cream Tabby</td>\n",
       "    </tr>\n",
       "    <tr>\n",
       "      <th>2</th>\n",
       "      <td>Pearce</td>\n",
       "      <td>2015-01-31 12:28:00</td>\n",
       "      <td>0</td>\n",
       "      <td>Dog</td>\n",
       "      <td>Neutered Male</td>\n",
       "      <td>2 years</td>\n",
       "      <td>Pit Bull Mix</td>\n",
       "      <td>Blue/White</td>\n",
       "    </tr>\n",
       "    <tr>\n",
       "      <th>3</th>\n",
       "      <td>NaN</td>\n",
       "      <td>2014-07-11 19:09:00</td>\n",
       "      <td>1</td>\n",
       "      <td>Cat</td>\n",
       "      <td>Intact Male</td>\n",
       "      <td>3 weeks</td>\n",
       "      <td>Domestic Shorthair Mix</td>\n",
       "      <td>Blue Cream</td>\n",
       "    </tr>\n",
       "    <tr>\n",
       "      <th>4</th>\n",
       "      <td>NaN</td>\n",
       "      <td>2013-11-15 12:52:00</td>\n",
       "      <td>1</td>\n",
       "      <td>Dog</td>\n",
       "      <td>Neutered Male</td>\n",
       "      <td>2 years</td>\n",
       "      <td>Lhasa Apso/Miniature Poodle</td>\n",
       "      <td>Tan</td>\n",
       "    </tr>\n",
       "  </tbody>\n",
       "</table>\n",
       "</div>"
      ],
      "text/plain": [
       "      Name             DateTime  OutcomeType AnimalType SexuponOutcome  \\\n",
       "0  Hambone  2014-02-12 18:22:00            2        Dog  Neutered Male   \n",
       "1    Emily  2013-10-13 12:44:00            3        Cat  Spayed Female   \n",
       "2   Pearce  2015-01-31 12:28:00            0        Dog  Neutered Male   \n",
       "3      NaN  2014-07-11 19:09:00            1        Cat    Intact Male   \n",
       "4      NaN  2013-11-15 12:52:00            1        Dog  Neutered Male   \n",
       "\n",
       "  AgeuponOutcome                        Breed        Color  \n",
       "0         1 year        Shetland Sheepdog Mix  Brown/White  \n",
       "1         1 year       Domestic Shorthair Mix  Cream Tabby  \n",
       "2        2 years                 Pit Bull Mix   Blue/White  \n",
       "3        3 weeks       Domestic Shorthair Mix   Blue Cream  \n",
       "4        2 years  Lhasa Apso/Miniature Poodle          Tan  "
      ]
     },
     "execution_count": 5,
     "metadata": {},
     "output_type": "execute_result"
    }
   ],
   "source": [
    "df.head()"
   ]
  },
  {
   "cell_type": "code",
   "execution_count": 6,
   "metadata": {},
   "outputs": [
    {
     "data": {
      "text/plain": [
       "(26729, 8)"
      ]
     },
     "execution_count": 6,
     "metadata": {},
     "output_type": "execute_result"
    }
   ],
   "source": [
    "df.shape"
   ]
  },
  {
   "cell_type": "code",
   "execution_count": 7,
   "metadata": {},
   "outputs": [
    {
     "data": {
      "text/plain": [
       "DateTime          0.000000\n",
       "OutcomeType       0.000000\n",
       "AnimalType        0.000000\n",
       "Breed             0.000000\n",
       "Color             0.000000\n",
       "SexuponOutcome    0.000037\n",
       "AgeuponOutcome    0.000673\n",
       "Name              0.287740\n",
       "dtype: float64"
      ]
     },
     "execution_count": 7,
     "metadata": {},
     "output_type": "execute_result"
    }
   ],
   "source": [
    "(df.isna().sum()/df.shape[0]).sort_values()"
   ]
  },
  {
   "cell_type": "code",
   "execution_count": 8,
   "metadata": {},
   "outputs": [
    {
     "name": "stdout",
     "output_type": "stream",
     "text": [
      "<class 'pandas.core.frame.DataFrame'>\n",
      "RangeIndex: 26729 entries, 0 to 26728\n",
      "Data columns (total 8 columns):\n",
      "Name              19038 non-null object\n",
      "DateTime          26729 non-null object\n",
      "OutcomeType       26729 non-null int64\n",
      "AnimalType        26729 non-null object\n",
      "SexuponOutcome    26728 non-null object\n",
      "AgeuponOutcome    26711 non-null object\n",
      "Breed             26729 non-null object\n",
      "Color             26729 non-null object\n",
      "dtypes: int64(1), object(7)\n",
      "memory usage: 1.6+ MB\n"
     ]
    }
   ],
   "source": [
    "df.info()"
   ]
  },
  {
   "cell_type": "code",
   "execution_count": 9,
   "metadata": {},
   "outputs": [
    {
     "data": {
      "text/plain": [
       "Name               6374\n",
       "DateTime          22918\n",
       "OutcomeType           5\n",
       "AnimalType            2\n",
       "SexuponOutcome        5\n",
       "AgeuponOutcome       44\n",
       "Breed              1380\n",
       "Color               366\n",
       "dtype: int64"
      ]
     },
     "execution_count": 9,
     "metadata": {},
     "output_type": "execute_result"
    }
   ],
   "source": [
    "df.nunique()"
   ]
  },
  {
   "cell_type": "code",
   "execution_count": 10,
   "metadata": {},
   "outputs": [
    {
     "name": "stdout",
     "output_type": "stream",
     "text": [
      "Name\n",
      "Max             136\n",
      "Bella           135\n",
      "Charlie         107\n",
      "Daisy           106\n",
      "Lucy             94\n",
      "               ... \n",
      "Karli             1\n",
      "Mabry             1\n",
      "Dev               1\n",
      "Akiko (Snow)      1\n",
      "Phantom           1\n",
      "Name: Name, Length: 6374, dtype: int64\n",
      "\n",
      "\n",
      "DateTime\n",
      "2015-08-11 00:00:00    19\n",
      "2015-11-17 00:00:00    17\n",
      "2015-07-02 00:00:00    13\n",
      "2015-04-02 00:00:00    11\n",
      "2014-08-31 09:00:00    10\n",
      "                       ..\n",
      "2014-05-23 13:42:00     1\n",
      "2013-12-30 07:44:00     1\n",
      "2013-11-16 12:52:00     1\n",
      "2015-10-24 17:37:00     1\n",
      "2013-11-07 13:02:00     1\n",
      "Name: DateTime, Length: 22918, dtype: int64\n",
      "\n",
      "\n",
      "OutcomeType\n",
      "0    10769\n",
      "1     9422\n",
      "2     4786\n",
      "3     1555\n",
      "4      197\n",
      "Name: OutcomeType, dtype: int64\n",
      "\n",
      "\n",
      "AnimalType\n",
      "Dog    15595\n",
      "Cat    11134\n",
      "Name: AnimalType, dtype: int64\n",
      "\n",
      "\n",
      "SexuponOutcome\n",
      "Neutered Male    9779\n",
      "Spayed Female    8820\n",
      "Intact Male      3525\n",
      "Intact Female    3511\n",
      "Unknown          1093\n",
      "Name: SexuponOutcome, dtype: int64\n",
      "\n",
      "\n",
      "AgeuponOutcome\n",
      "1 year       3969\n",
      "2 years      3742\n",
      "2 months     3397\n",
      "3 years      1823\n",
      "1 month      1281\n",
      "3 months     1277\n",
      "4 years      1071\n",
      "5 years       992\n",
      "4 months      888\n",
      "6 years       670\n",
      "3 weeks       659\n",
      "5 months      652\n",
      "6 months      588\n",
      "8 years       536\n",
      "7 years       531\n",
      "2 weeks       529\n",
      "10 months     457\n",
      "10 years      446\n",
      "8 months      402\n",
      "4 weeks       334\n",
      "9 years       288\n",
      "7 months      288\n",
      "12 years      234\n",
      "9 months      224\n",
      "1 weeks       171\n",
      "11 months     166\n",
      "1 week        146\n",
      "13 years      143\n",
      "11 years      126\n",
      "3 days        109\n",
      "2 days         99\n",
      "14 years       97\n",
      "15 years       85\n",
      "1 day          66\n",
      "6 days         50\n",
      "4 days         50\n",
      "16 years       36\n",
      "5 days         24\n",
      "0 years        22\n",
      "17 years       17\n",
      "5 weeks        11\n",
      "18 years       10\n",
      "19 years        3\n",
      "20 years        2\n",
      "Name: AgeuponOutcome, dtype: int64\n",
      "\n",
      "\n",
      "Breed\n",
      "Domestic Shorthair Mix                8810\n",
      "Pit Bull Mix                          1906\n",
      "Chihuahua Shorthair Mix               1766\n",
      "Labrador Retriever Mix                1363\n",
      "Domestic Medium Hair Mix               839\n",
      "                                      ... \n",
      "Boston Terrier/Miniature Schnauzer       1\n",
      "Australian Cattle Dog/Basenji            1\n",
      "Great Pyrenees/Australian Shepherd       1\n",
      "Catahoula/American Bulldog               1\n",
      "Maltese/Papillon                         1\n",
      "Name: Breed, Length: 1380, dtype: int64\n",
      "\n",
      "\n",
      "Color\n",
      "Black/White                2824\n",
      "Black                      2292\n",
      "Brown Tabby                1635\n",
      "Brown Tabby/White           940\n",
      "White                       931\n",
      "                           ... \n",
      "Chocolate/Brown Brindle       1\n",
      "Gold/Tan                      1\n",
      "Torbie/Brown                  1\n",
      "Yellow Brindle/Blue           1\n",
      "Cream/Orange                  1\n",
      "Name: Color, Length: 366, dtype: int64\n",
      "\n",
      "\n"
     ]
    }
   ],
   "source": [
    "for cl in df.columns:\n",
    "    print(cl)\n",
    "    print(df[cl].value_counts())\n",
    "    print(\"\\n\")"
   ]
  },
  {
   "cell_type": "markdown",
   "metadata": {},
   "source": [
    "## preprocessing"
   ]
  },
  {
   "cell_type": "code",
   "execution_count": 11,
   "metadata": {},
   "outputs": [],
   "source": [
    "from sklearn.model_selection import train_test_split"
   ]
  },
  {
   "cell_type": "code",
   "execution_count": 12,
   "metadata": {},
   "outputs": [],
   "source": [
    "X_train, X_test, y_train, y_test = \\\n",
    "train_test_split(df.drop(columns=target),df[target], \n",
    "                 test_size=0.3, random_state=42, stratify=df[target])"
   ]
  },
  {
   "cell_type": "code",
   "execution_count": 13,
   "metadata": {},
   "outputs": [],
   "source": [
    "from sklearn.impute import SimpleImputer\n",
    "from sklearn.pipeline import Pipeline, FeatureUnion\n",
    "from sklearn.preprocessing import FunctionTransformer\n",
    "from sklearn.ensemble import RandomForestClassifier\n",
    "from sklearn.compose import ColumnTransformer\n",
    "from sklearn.preprocessing import OrdinalEncoder\n",
    "from sklearn.base import TransformerMixin"
   ]
  },
  {
   "cell_type": "code",
   "execution_count": 56,
   "metadata": {},
   "outputs": [],
   "source": [
    "class SimpleImputerDf(SimpleImputer):\n",
    "    \"\"\"DataFrame Wrapper around SimpleImputer\"\"\"\n",
    "    def __init__(self, strategy):\n",
    "        super(SimpleImputerDf, self).__init__(strategy=strategy)\n",
    "\n",
    "    def fit(self, X, y=None):\n",
    "        if len(X.values.shape)==1:\n",
    "            vals = X.values.reshape(-1,1)\n",
    "        else:\n",
    "            vals = X.values    \n",
    "        return super(SimpleImputerDf, self).fit(vals)\n",
    "    \n",
    "    def transform(self, X, y=None):\n",
    "        if len(X.values.shape)==1:\n",
    "            vals = X.values.reshape(-1,1)\n",
    "            names = [X.name]\n",
    "        else:\n",
    "            vals = X.values\n",
    "            names = X.columns\n",
    "        z = super(SimpleImputerDf, self).transform(vals)\n",
    "        return pd.DataFrame(z, index=X.index, columns=names)\n",
    "    \n",
    "class OrdinalEncoderDf(OrdinalEncoder):\n",
    "    \"\"\"DataFrame Wrapper around OrdinalEncoderDf\"\"\"\n",
    "    def __init__(self):\n",
    "        super(OrdinalEncoderDf, self).__init__()\n",
    "\n",
    "    def transform(self, X, y=None):\n",
    "        z = super(OrdinalEncoderDf, self).transform(X.values)\n",
    "        return pd.DataFrame(z, index=X.index, columns=X.columns)\n",
    "\n",
    "class DenseTransformer(TransformerMixin):\n",
    "\n",
    "    def fit(self, X, y=None, **fit_params):\n",
    "        return self\n",
    "\n",
    "    def transform(self, X, y=None, **fit_params):\n",
    "        return X.todense()"
   ]
  },
  {
   "cell_type": "code",
   "execution_count": 57,
   "metadata": {},
   "outputs": [],
   "source": [
    "# преобразуем поля пола и типа животного\n",
    "# нет необходимости использовать one hot encoder, так как дерево за нас сделает необходимые разбивки\n",
    "features_1 = Pipeline([\n",
    "    (\"get features\", FunctionTransformer(lambda x: x[[\"AnimalType\", \"SexuponOutcome\"]])),\n",
    "    (\"impute\", SimpleImputerDf(strategy=\"most_frequent\")),\n",
    "    (\"encode\", OrdinalEncoderDf())\n",
    "])"
   ]
  },
  {
   "cell_type": "code",
   "execution_count": 58,
   "metadata": {},
   "outputs": [],
   "source": [
    "# преобразуем дату в набор год/месяц/день недели\n",
    "def create_time_features(df):\n",
    "    dt = pd.to_datetime(df.iloc[:,0])\n",
    "    return pd.DataFrame([dt.dt.year.rename(\"yr\"), dt.dt.month.rename(\"mn\"), dt.dt.weekday.rename(\"weekday\")]).T\n",
    "\n",
    "features_2 = Pipeline([\n",
    "    (\"get features\", FunctionTransformer(lambda x: x[\"DateTime\"])),\n",
    "    (\"impute\", SimpleImputerDf(strategy=\"most_frequent\")),\n",
    "    (\"create_time_features\", FunctionTransformer(create_time_features))\n",
    "])"
   ]
  },
  {
   "cell_type": "code",
   "execution_count": 59,
   "metadata": {},
   "outputs": [],
   "source": [
    "# преобразуем AgeuponOutcome в числовую переменную\n",
    "# преобразуем дату в набор год/месяц/день недели\n",
    "def preprocess_ageuponoutcome(df):\n",
    "    sr = df.iloc[:,0]\n",
    "    dct = {\n",
    "        'weeks':7,\n",
    "        'years':365, \n",
    "        'months':30, \n",
    "        'year':365, \n",
    "        'days':1, \n",
    "        'month':30, \n",
    "        'week':7, \n",
    "        'day':1        \n",
    "    }    \n",
    "    return (sr.apply(lambda x:str(x).split()[1]).map(dct) * sr.apply(lambda x: int(str(x).split()[0])) ).values.reshape(-1,1)\n",
    "\n",
    "features_3 = Pipeline([\n",
    "    (\"get features\", FunctionTransformer(lambda x: x[\"AgeuponOutcome\"])),\n",
    "    (\"impute\", SimpleImputerDf(strategy=\"most_frequent\")),\n",
    "    (\"calculate\", FunctionTransformer(preprocess_ageuponoutcome)),\n",
    "])"
   ]
  },
  {
   "cell_type": "code",
   "execution_count": 154,
   "metadata": {},
   "outputs": [],
   "source": [
    "# прочие переменные преобразуем с помощью Count Encoder\n",
    "from sklearn.feature_extraction.text import TfidfVectorizer, CountVectorizer\n",
    "from category_encoders import TargetEncoder, CountEncoder\n",
    "features_4 = Pipeline([\n",
    "    (\"get features\", FunctionTransformer(lambda x: x.loc[:,[\"Breed\", \"Name\", \"Color\"]])),\n",
    "    (\"impute\", SimpleImputerDf(strategy=\"most_frequent\")),\n",
    "#     (\"vectorize\", TfidfVectorizer(ngram_range = (1,2), max_features=40)),\n",
    "    (\"encode\", CountEncoder(handle_unknown=0, min_group_size=0.05)),\n",
    "#     (\"to_dense\", FunctionTransformer(lambda x: x.todense())),\n",
    "#     (\"dense\", DenseTransformer())\n",
    "])"
   ]
  },
  {
   "cell_type": "code",
   "execution_count": 155,
   "metadata": {},
   "outputs": [
    {
     "data": {
      "text/html": [
       "<div>\n",
       "<style scoped>\n",
       "    .dataframe tbody tr th:only-of-type {\n",
       "        vertical-align: middle;\n",
       "    }\n",
       "\n",
       "    .dataframe tbody tr th {\n",
       "        vertical-align: top;\n",
       "    }\n",
       "\n",
       "    .dataframe thead th {\n",
       "        text-align: right;\n",
       "    }\n",
       "</style>\n",
       "<table border=\"1\" class=\"dataframe\">\n",
       "  <thead>\n",
       "    <tr style=\"text-align: right;\">\n",
       "      <th></th>\n",
       "      <th>AnimalType</th>\n",
       "      <th>SexuponOutcome</th>\n",
       "      <th>yr</th>\n",
       "      <th>mn</th>\n",
       "      <th>weekday</th>\n",
       "      <th>AgeuponOutcome</th>\n",
       "      <th>Breed</th>\n",
       "      <th>Name</th>\n",
       "      <th>Color</th>\n",
       "    </tr>\n",
       "  </thead>\n",
       "  <tbody>\n",
       "    <tr>\n",
       "      <th>0</th>\n",
       "      <td>0.0</td>\n",
       "      <td>2.0</td>\n",
       "      <td>2013.0</td>\n",
       "      <td>11.0</td>\n",
       "      <td>5.0</td>\n",
       "      <td>60.0</td>\n",
       "      <td>6186.0</td>\n",
       "      <td>1.0</td>\n",
       "      <td>1561.0</td>\n",
       "    </tr>\n",
       "    <tr>\n",
       "      <th>1</th>\n",
       "      <td>1.0</td>\n",
       "      <td>1.0</td>\n",
       "      <td>2015.0</td>\n",
       "      <td>7.0</td>\n",
       "      <td>3.0</td>\n",
       "      <td>30.0</td>\n",
       "      <td>1342.0</td>\n",
       "      <td>5452.0</td>\n",
       "      <td>485.0</td>\n",
       "    </tr>\n",
       "    <tr>\n",
       "      <th>2</th>\n",
       "      <td>0.0</td>\n",
       "      <td>1.0</td>\n",
       "      <td>2015.0</td>\n",
       "      <td>8.0</td>\n",
       "      <td>1.0</td>\n",
       "      <td>21.0</td>\n",
       "      <td>18.0</td>\n",
       "      <td>5452.0</td>\n",
       "      <td>25.0</td>\n",
       "    </tr>\n",
       "    <tr>\n",
       "      <th>3</th>\n",
       "      <td>0.0</td>\n",
       "      <td>2.0</td>\n",
       "      <td>2013.0</td>\n",
       "      <td>11.0</td>\n",
       "      <td>3.0</td>\n",
       "      <td>365.0</td>\n",
       "      <td>272.0</td>\n",
       "      <td>7.0</td>\n",
       "      <td>60.0</td>\n",
       "    </tr>\n",
       "    <tr>\n",
       "      <th>4</th>\n",
       "      <td>0.0</td>\n",
       "      <td>2.0</td>\n",
       "      <td>2015.0</td>\n",
       "      <td>12.0</td>\n",
       "      <td>3.0</td>\n",
       "      <td>1825.0</td>\n",
       "      <td>6186.0</td>\n",
       "      <td>4.0</td>\n",
       "      <td>310.0</td>\n",
       "    </tr>\n",
       "  </tbody>\n",
       "</table>\n",
       "</div>"
      ],
      "text/plain": [
       "   AnimalType  SexuponOutcome      yr    mn  weekday  AgeuponOutcome   Breed  \\\n",
       "0         0.0             2.0  2013.0  11.0      5.0            60.0  6186.0   \n",
       "1         1.0             1.0  2015.0   7.0      3.0            30.0  1342.0   \n",
       "2         0.0             1.0  2015.0   8.0      1.0            21.0    18.0   \n",
       "3         0.0             2.0  2013.0  11.0      3.0           365.0   272.0   \n",
       "4         0.0             2.0  2015.0  12.0      3.0          1825.0  6186.0   \n",
       "\n",
       "     Name   Color  \n",
       "0     1.0  1561.0  \n",
       "1  5452.0   485.0  \n",
       "2  5452.0    25.0  \n",
       "3     7.0    60.0  \n",
       "4     4.0   310.0  "
      ]
     },
     "execution_count": 155,
     "metadata": {},
     "output_type": "execute_result"
    }
   ],
   "source": [
    "preprocessing_pipeline = FeatureUnion([\n",
    "    (\"1\", features_1),\n",
    "    (\"2\", features_2),\n",
    "    (\"3\", features_3),\n",
    "    (\"4\", features_4),    \n",
    "\n",
    "])\n",
    "\n",
    "column_names = [\"AnimalType\", \"SexuponOutcome\",\n",
    "             \"yr\",\"mn\", \"weekday\",\n",
    "             \"AgeuponOutcome\",\n",
    "             \"Breed\", \"Name\", \"Color\"\n",
    "            ]\n",
    "\n",
    "pd.DataFrame(preprocessing_pipeline.fit_transform(X_train), columns=column_names).head()"
   ]
  },
  {
   "cell_type": "markdown",
   "metadata": {},
   "source": [
    "## Моделирование"
   ]
  },
  {
   "cell_type": "code",
   "execution_count": 156,
   "metadata": {},
   "outputs": [],
   "source": [
    "from sklearn.ensemble import RandomForestClassifier\n",
    "from sklearn.dummy import DummyClassifier\n",
    "from sklearn.metrics import confusion_matrix, classification_report\n"
   ]
  },
  {
   "cell_type": "code",
   "execution_count": 157,
   "metadata": {},
   "outputs": [],
   "source": [
    "model = RandomForestClassifier()\n",
    "baseline = DummyClassifier(strategy =\"stratified\")"
   ]
  },
  {
   "cell_type": "code",
   "execution_count": 158,
   "metadata": {},
   "outputs": [],
   "source": [
    "pl = Pipeline([\n",
    "    (\"preprocess\", preprocessing_pipeline),\n",
    "    (\"model\", model) \n",
    "])\n",
    "pl.fit(X_train, y_train)\n",
    "y_predicted = pl.predict(X_test)"
   ]
  },
  {
   "cell_type": "code",
   "execution_count": 159,
   "metadata": {},
   "outputs": [],
   "source": [
    "baseline.fit(X_train, y_train)\n",
    "y_predicted_baseline = baseline.predict(X_test)"
   ]
  },
  {
   "cell_type": "code",
   "execution_count": 160,
   "metadata": {},
   "outputs": [
    {
     "name": "stdout",
     "output_type": "stream",
     "text": [
      "baseline\n",
      "                 precision    recall  f1-score   support\n",
      "\n",
      "       Adoption       0.41      0.42      0.41      3231\n",
      "       Transfer       0.37      0.36      0.36      2827\n",
      "Return_to_owner       0.18      0.18      0.18      1436\n",
      "     Euthanasia       0.04      0.04      0.04       466\n",
      "           Died       0.00      0.00      0.00        59\n",
      "\n",
      "       accuracy                           0.33      8019\n",
      "      macro avg       0.20      0.20      0.20      8019\n",
      "   weighted avg       0.33      0.33      0.33      8019\n",
      "\n",
      "model\n",
      "                 precision    recall  f1-score   support\n",
      "\n",
      "       Adoption       0.68      0.81      0.74      3231\n",
      "       Transfer       0.71      0.65      0.68      2827\n",
      "Return_to_owner       0.46      0.44      0.45      1436\n",
      "     Euthanasia       0.55      0.21      0.30       466\n",
      "           Died       0.33      0.03      0.06        59\n",
      "\n",
      "       accuracy                           0.65      8019\n",
      "      macro avg       0.55      0.43      0.45      8019\n",
      "   weighted avg       0.64      0.65      0.63      8019\n",
      "\n"
     ]
    }
   ],
   "source": [
    "print(\"baseline\")\n",
    "print(classification_report(y_test, y_predicted_baseline, target_names =target_dict.keys()))\n",
    "print(\"model\")\n",
    "print(classification_report(y_test, y_predicted, target_names =target_dict.keys()))"
   ]
  },
  {
   "cell_type": "markdown",
   "metadata": {},
   "source": [
    "## Видим, что модель гораздо круче базовой линии. Подберем параметры классификатотра и еще раз посмотрим на результат"
   ]
  },
  {
   "cell_type": "code",
   "execution_count": 166,
   "metadata": {},
   "outputs": [
    {
     "name": "stdout",
     "output_type": "stream",
     "text": [
      "Fitting 5 folds for each of 20 candidates, totalling 100 fits\n"
     ]
    },
    {
     "name": "stderr",
     "output_type": "stream",
     "text": [
      "[Parallel(n_jobs=-1)]: Using backend LokyBackend with 4 concurrent workers.\n",
      "[Parallel(n_jobs=-1)]: Done  42 tasks      | elapsed:  6.9min\n",
      "[Parallel(n_jobs=-1)]: Done 100 out of 100 | elapsed: 239.1min finished\n"
     ]
    },
    {
     "name": "stdout",
     "output_type": "stream",
     "text": [
      "Wall time: 4h 2min 16s\n"
     ]
    },
    {
     "data": {
      "text/plain": [
       "{'model__n_estimators': 6543, 'model__max_depth': 10}"
      ]
     },
     "execution_count": 166,
     "metadata": {},
     "output_type": "execute_result"
    }
   ],
   "source": [
    "%%time\n",
    "from sklearn.model_selection import RandomizedSearchCV\n",
    "param_grid = {\n",
    "    'model__max_depth': [None, 2,3,5,10,15,20,30,40],\n",
    "#     'model__min_samples_leaf': [1,2,5,10,0.01,0.05,0.1,0.2],\n",
    "    'model__n_estimators': np.logspace(0.5,4,20).astype(int)\n",
    "}\n",
    "search = RandomizedSearchCV(pl, param_grid, n_jobs=-1, cv=5, verbose=1,n_iter=20)\n",
    "search.fit(X_train, y_train)\n",
    "search.best_params_"
   ]
  },
  {
   "cell_type": "code",
   "execution_count": 168,
   "metadata": {},
   "outputs": [
    {
     "data": {
      "text/html": [
       "<div>\n",
       "<style scoped>\n",
       "    .dataframe tbody tr th:only-of-type {\n",
       "        vertical-align: middle;\n",
       "    }\n",
       "\n",
       "    .dataframe tbody tr th {\n",
       "        vertical-align: top;\n",
       "    }\n",
       "\n",
       "    .dataframe thead th {\n",
       "        text-align: right;\n",
       "    }\n",
       "</style>\n",
       "<table border=\"1\" class=\"dataframe\">\n",
       "  <thead>\n",
       "    <tr style=\"text-align: right;\">\n",
       "      <th></th>\n",
       "      <th>mean_fit_time</th>\n",
       "      <th>std_fit_time</th>\n",
       "      <th>mean_score_time</th>\n",
       "      <th>std_score_time</th>\n",
       "      <th>param_model__n_estimators</th>\n",
       "      <th>param_model__max_depth</th>\n",
       "      <th>params</th>\n",
       "      <th>split0_test_score</th>\n",
       "      <th>split1_test_score</th>\n",
       "      <th>split2_test_score</th>\n",
       "      <th>split3_test_score</th>\n",
       "      <th>split4_test_score</th>\n",
       "      <th>mean_test_score</th>\n",
       "      <th>std_test_score</th>\n",
       "      <th>rank_test_score</th>\n",
       "    </tr>\n",
       "  </thead>\n",
       "  <tbody>\n",
       "    <tr>\n",
       "      <th>14</th>\n",
       "      <td>129.520371</td>\n",
       "      <td>1.079117</td>\n",
       "      <td>10.787546</td>\n",
       "      <td>0.701938</td>\n",
       "      <td>6543</td>\n",
       "      <td>10</td>\n",
       "      <td>{'model__n_estimators': 6543, 'model__max_dept...</td>\n",
       "      <td>0.648316</td>\n",
       "      <td>0.657937</td>\n",
       "      <td>0.654730</td>\n",
       "      <td>0.658739</td>\n",
       "      <td>0.661945</td>\n",
       "      <td>0.656334</td>\n",
       "      <td>0.004619</td>\n",
       "      <td>1</td>\n",
       "    </tr>\n",
       "    <tr>\n",
       "      <th>2</th>\n",
       "      <td>3.095132</td>\n",
       "      <td>0.283538</td>\n",
       "      <td>0.455981</td>\n",
       "      <td>0.050447</td>\n",
       "      <td>26</td>\n",
       "      <td>10</td>\n",
       "      <td>{'model__n_estimators': 26, 'model__max_depth'...</td>\n",
       "      <td>0.646980</td>\n",
       "      <td>0.659808</td>\n",
       "      <td>0.654997</td>\n",
       "      <td>0.653394</td>\n",
       "      <td>0.652325</td>\n",
       "      <td>0.653501</td>\n",
       "      <td>0.004146</td>\n",
       "      <td>2</td>\n",
       "    </tr>\n",
       "    <tr>\n",
       "      <th>8</th>\n",
       "      <td>8.792935</td>\n",
       "      <td>0.361703</td>\n",
       "      <td>0.700872</td>\n",
       "      <td>0.023948</td>\n",
       "      <td>219</td>\n",
       "      <td>15</td>\n",
       "      <td>{'model__n_estimators': 219, 'model__max_depth...</td>\n",
       "      <td>0.646446</td>\n",
       "      <td>0.652859</td>\n",
       "      <td>0.650722</td>\n",
       "      <td>0.654196</td>\n",
       "      <td>0.656334</td>\n",
       "      <td>0.652111</td>\n",
       "      <td>0.003369</td>\n",
       "      <td>3</td>\n",
       "    </tr>\n",
       "    <tr>\n",
       "      <th>1</th>\n",
       "      <td>2.931163</td>\n",
       "      <td>0.046729</td>\n",
       "      <td>0.567074</td>\n",
       "      <td>0.026694</td>\n",
       "      <td>11</td>\n",
       "      <td>10</td>\n",
       "      <td>{'model__n_estimators': 11, 'model__max_depth'...</td>\n",
       "      <td>0.650989</td>\n",
       "      <td>0.650989</td>\n",
       "      <td>0.647782</td>\n",
       "      <td>0.652325</td>\n",
       "      <td>0.656066</td>\n",
       "      <td>0.651630</td>\n",
       "      <td>0.002676</td>\n",
       "      <td>4</td>\n",
       "    </tr>\n",
       "    <tr>\n",
       "      <th>18</th>\n",
       "      <td>20.878755</td>\n",
       "      <td>0.066359</td>\n",
       "      <td>1.287158</td>\n",
       "      <td>0.056542</td>\n",
       "      <td>784</td>\n",
       "      <td>15</td>\n",
       "      <td>{'model__n_estimators': 784, 'model__max_depth...</td>\n",
       "      <td>0.644575</td>\n",
       "      <td>0.652325</td>\n",
       "      <td>0.649385</td>\n",
       "      <td>0.654463</td>\n",
       "      <td>0.656066</td>\n",
       "      <td>0.651363</td>\n",
       "      <td>0.004066</td>\n",
       "      <td>5</td>\n",
       "    </tr>\n",
       "  </tbody>\n",
       "</table>\n",
       "</div>"
      ],
      "text/plain": [
       "    mean_fit_time  std_fit_time  mean_score_time  std_score_time  \\\n",
       "14     129.520371      1.079117        10.787546        0.701938   \n",
       "2        3.095132      0.283538         0.455981        0.050447   \n",
       "8        8.792935      0.361703         0.700872        0.023948   \n",
       "1        2.931163      0.046729         0.567074        0.026694   \n",
       "18      20.878755      0.066359         1.287158        0.056542   \n",
       "\n",
       "   param_model__n_estimators param_model__max_depth  \\\n",
       "14                      6543                     10   \n",
       "2                         26                     10   \n",
       "8                        219                     15   \n",
       "1                         11                     10   \n",
       "18                       784                     15   \n",
       "\n",
       "                                               params  split0_test_score  \\\n",
       "14  {'model__n_estimators': 6543, 'model__max_dept...           0.648316   \n",
       "2   {'model__n_estimators': 26, 'model__max_depth'...           0.646980   \n",
       "8   {'model__n_estimators': 219, 'model__max_depth...           0.646446   \n",
       "1   {'model__n_estimators': 11, 'model__max_depth'...           0.650989   \n",
       "18  {'model__n_estimators': 784, 'model__max_depth...           0.644575   \n",
       "\n",
       "    split1_test_score  split2_test_score  split3_test_score  \\\n",
       "14           0.657937           0.654730           0.658739   \n",
       "2            0.659808           0.654997           0.653394   \n",
       "8            0.652859           0.650722           0.654196   \n",
       "1            0.650989           0.647782           0.652325   \n",
       "18           0.652325           0.649385           0.654463   \n",
       "\n",
       "    split4_test_score  mean_test_score  std_test_score  rank_test_score  \n",
       "14           0.661945         0.656334        0.004619                1  \n",
       "2            0.652325         0.653501        0.004146                2  \n",
       "8            0.656334         0.652111        0.003369                3  \n",
       "1            0.656066         0.651630        0.002676                4  \n",
       "18           0.656066         0.651363        0.004066                5  "
      ]
     },
     "execution_count": 168,
     "metadata": {},
     "output_type": "execute_result"
    }
   ],
   "source": [
    "pd.DataFrame(search.cv_results_).sort_values(by=\"rank_test_score\").head()"
   ]
  },
  {
   "cell_type": "markdown",
   "metadata": {},
   "source": [
    "## на мой вззгляд самая приличная модель у нас на 4 месте - высокий уровень метрики при низком среднеквадратическом отклоннии. При этом глубина модельки маленькая, она быстро обучается. Поищем оптимальное решение в окрестности найденных параметров"
   ]
  },
  {
   "cell_type": "code",
   "execution_count": 171,
   "metadata": {},
   "outputs": [
    {
     "name": "stdout",
     "output_type": "stream",
     "text": [
      "Fitting 5 folds for each of 25 candidates, totalling 125 fits\n"
     ]
    },
    {
     "name": "stderr",
     "output_type": "stream",
     "text": [
      "[Parallel(n_jobs=-1)]: Using backend LokyBackend with 4 concurrent workers.\n",
      "[Parallel(n_jobs=-1)]: Done  42 tasks      | elapsed:   33.3s\n",
      "[Parallel(n_jobs=-1)]: Done 125 out of 125 | elapsed:  1.5min finished\n"
     ]
    },
    {
     "name": "stdout",
     "output_type": "stream",
     "text": [
      "Wall time: 1min 37s\n"
     ]
    },
    {
     "data": {
      "text/plain": [
       "{'model__max_depth': 10, 'model__n_estimators': 12}"
      ]
     },
     "execution_count": 171,
     "metadata": {},
     "output_type": "execute_result"
    }
   ],
   "source": [
    "%%time\n",
    "from sklearn.model_selection import GridSearchCV\n",
    "param_grid = {\n",
    "    'model__max_depth': [8,9,10,11,12],\n",
    "#     'model__min_samples_leaf': [1,2,5,10,0.01,0.05,0.1,0.2],\n",
    "    'model__n_estimators': [8,9,10,11,12]\n",
    "}\n",
    "search = GridSearchCV(pl, param_grid, n_jobs=-1, cv=5, verbose=1)\n",
    "search.fit(X_train, y_train)\n",
    "search.best_params_"
   ]
  },
  {
   "cell_type": "code",
   "execution_count": 186,
   "metadata": {},
   "outputs": [
    {
     "name": "stdout",
     "output_type": "stream",
     "text": [
      "модель с подобранными параметрами\n",
      "                 precision    recall  f1-score   support\n",
      "\n",
      "       Adoption       0.66      0.85      0.74      3231\n",
      "       Transfer       0.74      0.64      0.69      2827\n",
      "Return_to_owner       0.48      0.44      0.46      1436\n",
      "     Euthanasia       0.67      0.13      0.22       466\n",
      "           Died       0.00      0.00      0.00        59\n",
      "\n",
      "       accuracy                           0.65      8019\n",
      "      macro avg       0.51      0.41      0.42      8019\n",
      "   weighted avg       0.65      0.65      0.64      8019\n",
      "\n"
     ]
    },
    {
     "name": "stderr",
     "output_type": "stream",
     "text": [
      "C:\\Users\\Asus\\Miniconda3\\envs\\otus_ml\\lib\\site-packages\\sklearn\\metrics\\_classification.py:1268: UndefinedMetricWarning: Precision and F-score are ill-defined and being set to 0.0 in labels with no predicted samples. Use `zero_division` parameter to control this behavior.\n",
      "  _warn_prf(average, modifier, msg_start, len(result))\n"
     ]
    }
   ],
   "source": [
    "print(\"модель с подобранными параметрами\")\n",
    "y_predicted = search.predict(X_test)\n",
    "print(classification_report(y_test, y_predicted, target_names =target_dict.keys()))"
   ]
  },
  {
   "cell_type": "code",
   "execution_count": 245,
   "metadata": {},
   "outputs": [
    {
     "data": {
      "text/plain": [
       "array([[2692,  221,  317,    1,    0],\n",
       "       [ 661, 1834,  297,   35,    0],\n",
       "       [ 607,  182,  639,    8,    0],\n",
       "       [  56,  239,  102,   69,    0],\n",
       "       [   3,   55,    0,    1,    0]], dtype=int64)"
      ]
     },
     "execution_count": 245,
     "metadata": {},
     "output_type": "execute_result"
    }
   ],
   "source": [
    "from sklearn.metrics import confusion_matrix\n",
    "confusion_matrix(y_test, y_predicted)"
   ]
  },
  {
   "cell_type": "code",
   "execution_count": 187,
   "metadata": {},
   "outputs": [],
   "source": [
    "### что-то качество не приросло"
   ]
  },
  {
   "cell_type": "code",
   "execution_count": 173,
   "metadata": {},
   "outputs": [
    {
     "data": {
      "text/html": [
       "<div>\n",
       "<style scoped>\n",
       "    .dataframe tbody tr th:only-of-type {\n",
       "        vertical-align: middle;\n",
       "    }\n",
       "\n",
       "    .dataframe tbody tr th {\n",
       "        vertical-align: top;\n",
       "    }\n",
       "\n",
       "    .dataframe thead th {\n",
       "        text-align: right;\n",
       "    }\n",
       "</style>\n",
       "<table border=\"1\" class=\"dataframe\">\n",
       "  <thead>\n",
       "    <tr style=\"text-align: right;\">\n",
       "      <th></th>\n",
       "      <th>mean_fit_time</th>\n",
       "      <th>std_fit_time</th>\n",
       "      <th>mean_score_time</th>\n",
       "      <th>std_score_time</th>\n",
       "      <th>param_model__max_depth</th>\n",
       "      <th>param_model__n_estimators</th>\n",
       "      <th>params</th>\n",
       "      <th>split0_test_score</th>\n",
       "      <th>split1_test_score</th>\n",
       "      <th>split2_test_score</th>\n",
       "      <th>split3_test_score</th>\n",
       "      <th>split4_test_score</th>\n",
       "      <th>mean_test_score</th>\n",
       "      <th>std_test_score</th>\n",
       "      <th>rank_test_score</th>\n",
       "    </tr>\n",
       "  </thead>\n",
       "  <tbody>\n",
       "    <tr>\n",
       "      <th>14</th>\n",
       "      <td>2.206297</td>\n",
       "      <td>0.016860</td>\n",
       "      <td>0.377591</td>\n",
       "      <td>0.020840</td>\n",
       "      <td>10</td>\n",
       "      <td>12</td>\n",
       "      <td>{'model__max_depth': 10, 'model__n_estimators'...</td>\n",
       "      <td>0.646980</td>\n",
       "      <td>0.660075</td>\n",
       "      <td>0.652058</td>\n",
       "      <td>0.654730</td>\n",
       "      <td>0.656601</td>\n",
       "      <td>0.654089</td>\n",
       "      <td>0.004409</td>\n",
       "      <td>1</td>\n",
       "    </tr>\n",
       "    <tr>\n",
       "      <th>13</th>\n",
       "      <td>2.210486</td>\n",
       "      <td>0.017488</td>\n",
       "      <td>0.368017</td>\n",
       "      <td>0.015668</td>\n",
       "      <td>10</td>\n",
       "      <td>11</td>\n",
       "      <td>{'model__max_depth': 10, 'model__n_estimators'...</td>\n",
       "      <td>0.652859</td>\n",
       "      <td>0.653127</td>\n",
       "      <td>0.648851</td>\n",
       "      <td>0.659808</td>\n",
       "      <td>0.649920</td>\n",
       "      <td>0.652913</td>\n",
       "      <td>0.003822</td>\n",
       "      <td>2</td>\n",
       "    </tr>\n",
       "    <tr>\n",
       "      <th>9</th>\n",
       "      <td>2.253971</td>\n",
       "      <td>0.039452</td>\n",
       "      <td>0.361035</td>\n",
       "      <td>0.022479</td>\n",
       "      <td>9</td>\n",
       "      <td>12</td>\n",
       "      <td>{'model__max_depth': 9, 'model__n_estimators':...</td>\n",
       "      <td>0.644842</td>\n",
       "      <td>0.653661</td>\n",
       "      <td>0.654196</td>\n",
       "      <td>0.657135</td>\n",
       "      <td>0.654463</td>\n",
       "      <td>0.652859</td>\n",
       "      <td>0.004185</td>\n",
       "      <td>3</td>\n",
       "    </tr>\n",
       "    <tr>\n",
       "      <th>7</th>\n",
       "      <td>2.272920</td>\n",
       "      <td>0.082965</td>\n",
       "      <td>0.398535</td>\n",
       "      <td>0.017027</td>\n",
       "      <td>9</td>\n",
       "      <td>10</td>\n",
       "      <td>{'model__max_depth': 9, 'model__n_estimators':...</td>\n",
       "      <td>0.649118</td>\n",
       "      <td>0.648316</td>\n",
       "      <td>0.657135</td>\n",
       "      <td>0.650187</td>\n",
       "      <td>0.654463</td>\n",
       "      <td>0.651844</td>\n",
       "      <td>0.003390</td>\n",
       "      <td>4</td>\n",
       "    </tr>\n",
       "    <tr>\n",
       "      <th>0</th>\n",
       "      <td>2.522453</td>\n",
       "      <td>0.113704</td>\n",
       "      <td>0.359838</td>\n",
       "      <td>0.013207</td>\n",
       "      <td>8</td>\n",
       "      <td>8</td>\n",
       "      <td>{'model__max_depth': 8, 'model__n_estimators': 8}</td>\n",
       "      <td>0.649653</td>\n",
       "      <td>0.655265</td>\n",
       "      <td>0.657670</td>\n",
       "      <td>0.652859</td>\n",
       "      <td>0.643506</td>\n",
       "      <td>0.651790</td>\n",
       "      <td>0.004919</td>\n",
       "      <td>5</td>\n",
       "    </tr>\n",
       "  </tbody>\n",
       "</table>\n",
       "</div>"
      ],
      "text/plain": [
       "    mean_fit_time  std_fit_time  mean_score_time  std_score_time  \\\n",
       "14       2.206297      0.016860         0.377591        0.020840   \n",
       "13       2.210486      0.017488         0.368017        0.015668   \n",
       "9        2.253971      0.039452         0.361035        0.022479   \n",
       "7        2.272920      0.082965         0.398535        0.017027   \n",
       "0        2.522453      0.113704         0.359838        0.013207   \n",
       "\n",
       "   param_model__max_depth param_model__n_estimators  \\\n",
       "14                     10                        12   \n",
       "13                     10                        11   \n",
       "9                       9                        12   \n",
       "7                       9                        10   \n",
       "0                       8                         8   \n",
       "\n",
       "                                               params  split0_test_score  \\\n",
       "14  {'model__max_depth': 10, 'model__n_estimators'...           0.646980   \n",
       "13  {'model__max_depth': 10, 'model__n_estimators'...           0.652859   \n",
       "9   {'model__max_depth': 9, 'model__n_estimators':...           0.644842   \n",
       "7   {'model__max_depth': 9, 'model__n_estimators':...           0.649118   \n",
       "0   {'model__max_depth': 8, 'model__n_estimators': 8}           0.649653   \n",
       "\n",
       "    split1_test_score  split2_test_score  split3_test_score  \\\n",
       "14           0.660075           0.652058           0.654730   \n",
       "13           0.653127           0.648851           0.659808   \n",
       "9            0.653661           0.654196           0.657135   \n",
       "7            0.648316           0.657135           0.650187   \n",
       "0            0.655265           0.657670           0.652859   \n",
       "\n",
       "    split4_test_score  mean_test_score  std_test_score  rank_test_score  \n",
       "14           0.656601         0.654089        0.004409                1  \n",
       "13           0.649920         0.652913        0.003822                2  \n",
       "9            0.654463         0.652859        0.004185                3  \n",
       "7            0.654463         0.651844        0.003390                4  \n",
       "0            0.643506         0.651790        0.004919                5  "
      ]
     },
     "execution_count": 173,
     "metadata": {},
     "output_type": "execute_result"
    }
   ],
   "source": [
    "pd.DataFrame(search.cv_results_).sort_values(by=\"rank_test_score\").head()"
   ]
  },
  {
   "cell_type": "markdown",
   "metadata": {},
   "source": [
    "### посмотрим на важность признаков"
   ]
  },
  {
   "cell_type": "code",
   "execution_count": 183,
   "metadata": {},
   "outputs": [
    {
     "data": {
      "text/html": [
       "<div>\n",
       "<style scoped>\n",
       "    .dataframe tbody tr th:only-of-type {\n",
       "        vertical-align: middle;\n",
       "    }\n",
       "\n",
       "    .dataframe tbody tr th {\n",
       "        vertical-align: top;\n",
       "    }\n",
       "\n",
       "    .dataframe thead th {\n",
       "        text-align: right;\n",
       "    }\n",
       "</style>\n",
       "<table border=\"1\" class=\"dataframe\">\n",
       "  <thead>\n",
       "    <tr style=\"text-align: right;\">\n",
       "      <th></th>\n",
       "      <th>0</th>\n",
       "    </tr>\n",
       "  </thead>\n",
       "  <tbody>\n",
       "    <tr>\n",
       "      <th>yr</th>\n",
       "      <td>0.016706</td>\n",
       "    </tr>\n",
       "    <tr>\n",
       "      <th>mn</th>\n",
       "      <td>0.037114</td>\n",
       "    </tr>\n",
       "    <tr>\n",
       "      <th>AnimalType</th>\n",
       "      <td>0.044415</td>\n",
       "    </tr>\n",
       "    <tr>\n",
       "      <th>Color</th>\n",
       "      <td>0.044562</td>\n",
       "    </tr>\n",
       "    <tr>\n",
       "      <th>weekday</th>\n",
       "      <td>0.051342</td>\n",
       "    </tr>\n",
       "    <tr>\n",
       "      <th>Breed</th>\n",
       "      <td>0.059494</td>\n",
       "    </tr>\n",
       "    <tr>\n",
       "      <th>Name</th>\n",
       "      <td>0.094171</td>\n",
       "    </tr>\n",
       "    <tr>\n",
       "      <th>AgeuponOutcome</th>\n",
       "      <td>0.293786</td>\n",
       "    </tr>\n",
       "    <tr>\n",
       "      <th>SexuponOutcome</th>\n",
       "      <td>0.358410</td>\n",
       "    </tr>\n",
       "  </tbody>\n",
       "</table>\n",
       "</div>"
      ],
      "text/plain": [
       "                       0\n",
       "yr              0.016706\n",
       "mn              0.037114\n",
       "AnimalType      0.044415\n",
       "Color           0.044562\n",
       "weekday         0.051342\n",
       "Breed           0.059494\n",
       "Name            0.094171\n",
       "AgeuponOutcome  0.293786\n",
       "SexuponOutcome  0.358410"
      ]
     },
     "execution_count": 183,
     "metadata": {},
     "output_type": "execute_result"
    }
   ],
   "source": [
    "pd.DataFrame(\n",
    "search.best_estimator_[\"model\"].feature_importances_\n",
    ", index=column_names\n",
    ").sort_values(by=0)\n"
   ]
  },
  {
   "cell_type": "code",
   "execution_count": 228,
   "metadata": {},
   "outputs": [],
   "source": [
    "## посмотрим, как повлияет на качество увеличение числа деревьев"
   ]
  },
  {
   "cell_type": "code",
   "execution_count": 226,
   "metadata": {},
   "outputs": [
    {
     "data": {
      "application/vnd.jupyter.widget-view+json": {
       "model_id": "98ef3431083142b98f559e043f223da7",
       "version_major": 2,
       "version_minor": 0
      },
      "text/plain": [
       "HBox(children=(FloatProgress(value=0.0, max=20.0), HTML(value='')))"
      ]
     },
     "metadata": {},
     "output_type": "display_data"
    },
    {
     "name": "stdout",
     "output_type": "stream",
     "text": [
      "\n"
     ]
    }
   ],
   "source": [
    "from sklearn.metrics import f1_score\n",
    "from tqdm.notebook import tqdm\n",
    "res = []\n",
    "for n_estimators in tqdm(np.linspace(10,1000, 20).astype(\"int\")):\n",
    "    pl = Pipeline([\n",
    "    (\"preprocess\", preprocessing_pipeline),\n",
    "    (\"model\", RandomForestClassifier(n_estimators=n_estimators, n_jobs=-1, max_depth=10))\n",
    "    ])\n",
    "    pl.fit(X_train, y_train)\n",
    "    res.append(\n",
    "    {\n",
    "        \"n_estimators\":n_estimators,\n",
    "        \"q_train\": f1_score(y_train, pl.predict(X_train), average=\"micro\") ,\n",
    "        \"q_test\": f1_score(y_test, pl.predict(X_test), average=\"micro\") ,\n",
    "        \n",
    "    }\n",
    "    )"
   ]
  },
  {
   "cell_type": "code",
   "execution_count": 242,
   "metadata": {},
   "outputs": [],
   "source": [
    "# качество особо не растет"
   ]
  },
  {
   "cell_type": "code",
   "execution_count": 227,
   "metadata": {},
   "outputs": [
    {
     "data": {
      "text/plain": [
       "Text(0, 0.5, 'f1 score')"
      ]
     },
     "execution_count": 227,
     "metadata": {},
     "output_type": "execute_result"
    },
    {
     "data": {
      "image/png": "[encoded data removed]",
      "text/plain": [
       "<Figure size 432x288 with 1 Axes>"
      ]
     },
     "metadata": {
      "needs_background": "light"
     },
     "output_type": "display_data"
    }
   ],
   "source": [
    "r = pd.DataFrame(res)\n",
    "plt.plot(r.n_estimators, r.q_test, 'r')\n",
    "plt.plot(r.n_estimators, r.q_train, 'b')\n",
    "# plt.title(\"Зависимость качества на тесте от числа деревьев\")\n",
    "plt.xlabel('N_estimators')\n",
    "plt.ylabel('f1 score')\n",
    "\n"
   ]
  },
  {
   "cell_type": "markdown",
   "metadata": {},
   "source": [
    "### посмотрим, достаточный ли у нас объем выборки для обучения"
   ]
  },
  {
   "cell_type": "code",
   "execution_count": 240,
   "metadata": {},
   "outputs": [
    {
     "data": {
      "image/png": "[encoded data removed]",
      "text/plain": [
       "<Figure size 432x288 with 1 Axes>"
      ]
     },
     "metadata": {},
     "output_type": "display_data"
    }
   ],
   "source": [
    "from mlxtend.plotting import plot_learning_curves\n",
    "pl = Pipeline([\n",
    "(\"preprocess\", preprocessing_pipeline),\n",
    "(\"model\", RandomForestClassifier(n_estimators=12,  max_depth=10))\n",
    "])\n",
    "try:\n",
    "    plot_learning_curves(X_train, y_train, X_test, y_test, pl)\n",
    "except TypeError:\n",
    "    pass"
   ]
  },
  {
   "cell_type": "code",
   "execution_count": 241,
   "metadata": {},
   "outputs": [],
   "source": [
    "#данных вполне достаточно"
   ]
  },
  {
   "cell_type": "code",
   "execution_count": null,
   "metadata": {},
   "outputs": [],
   "source": []
  },
  {
   "cell_type": "code",
   "execution_count": null,
   "metadata": {},
   "outputs": [],
   "source": []
  }
 ],
 "metadata": {
  "kernelspec": {
   "display_name": "Python 3",
   "language": "python",
   "name": "python3"
  },
  "language_info": {
   "codemirror_mode": {
    "name": "ipython",
    "version": 3
   },
   "file_extension": ".py",
   "mimetype": "text/x-python",
   "name": "python",
   "nbconvert_exporter": "python",
   "pygments_lexer": "ipython3",
   "version": "3.7.5"
  }
 },
 "nbformat": 4,
 "nbformat_minor": 2
}
