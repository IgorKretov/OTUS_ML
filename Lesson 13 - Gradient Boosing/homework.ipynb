{
 "cells": [
  {
   "cell_type": "code",
   "execution_count": 29,
   "metadata": {},
   "outputs": [],
   "source": [
    "import pandas as pd\n",
    "import numpy as np\n",
    "import seaborn as sns\n",
    "from matplotlib import pyplot as plt\n",
    "from sklearn.metrics import confusion_matrix\n",
    "from sklearn.model_selection import RandomizedSearchCV\n",
    "from sklearn.model_selection import GridSearchCV\n",
    "from sklearn.metrics import f1_score\n",
    "from tqdm.notebook import tqdm\n",
    "%matplotlib inline"
   ]
  },
  {
   "cell_type": "code",
   "execution_count": 30,
   "metadata": {},
   "outputs": [],
   "source": [
    "df = pd.read_csv(\"train.csv\")\n",
    "df = df.drop(columns=[\"OutcomeSubtype\",\"AnimalID\"])\n",
    "target = \"OutcomeType\""
   ]
  },
  {
   "cell_type": "code",
   "execution_count": 31,
   "metadata": {},
   "outputs": [],
   "source": [
    "target_dict = {\n",
    "    \"Adoption\": 0,\n",
    "\"Transfer\": 1,\n",
    "\"Return_to_owner\": 2, \n",
    "\"Euthanasia\":3,\n",
    "\"Died\":4\n",
    "}"
   ]
  },
  {
   "cell_type": "code",
   "execution_count": 32,
   "metadata": {},
   "outputs": [],
   "source": [
    "df[target] = df[target].map(target_dict)"
   ]
  },
  {
   "cell_type": "markdown",
   "metadata": {},
   "source": [
    "## EDA"
   ]
  },
  {
   "cell_type": "code",
   "execution_count": 33,
   "metadata": {},
   "outputs": [
    {
     "data": {
      "text/html": [
       "<div>\n",
       "<style scoped>\n",
       "    .dataframe tbody tr th:only-of-type {\n",
       "        vertical-align: middle;\n",
       "    }\n",
       "\n",
       "    .dataframe tbody tr th {\n",
       "        vertical-align: top;\n",
       "    }\n",
       "\n",
       "    .dataframe thead th {\n",
       "        text-align: right;\n",
       "    }\n",
       "</style>\n",
       "<table border=\"1\" class=\"dataframe\">\n",
       "  <thead>\n",
       "    <tr style=\"text-align: right;\">\n",
       "      <th></th>\n",
       "      <th>Name</th>\n",
       "      <th>DateTime</th>\n",
       "      <th>OutcomeType</th>\n",
       "      <th>AnimalType</th>\n",
       "      <th>SexuponOutcome</th>\n",
       "      <th>AgeuponOutcome</th>\n",
       "      <th>Breed</th>\n",
       "      <th>Color</th>\n",
       "    </tr>\n",
       "  </thead>\n",
       "  <tbody>\n",
       "    <tr>\n",
       "      <th>0</th>\n",
       "      <td>Hambone</td>\n",
       "      <td>2014-02-12 18:22:00</td>\n",
       "      <td>2</td>\n",
       "      <td>Dog</td>\n",
       "      <td>Neutered Male</td>\n",
       "      <td>1 year</td>\n",
       "      <td>Shetland Sheepdog Mix</td>\n",
       "      <td>Brown/White</td>\n",
       "    </tr>\n",
       "    <tr>\n",
       "      <th>1</th>\n",
       "      <td>Emily</td>\n",
       "      <td>2013-10-13 12:44:00</td>\n",
       "      <td>3</td>\n",
       "      <td>Cat</td>\n",
       "      <td>Spayed Female</td>\n",
       "      <td>1 year</td>\n",
       "      <td>Domestic Shorthair Mix</td>\n",
       "      <td>Cream Tabby</td>\n",
       "    </tr>\n",
       "    <tr>\n",
       "      <th>2</th>\n",
       "      <td>Pearce</td>\n",
       "      <td>2015-01-31 12:28:00</td>\n",
       "      <td>0</td>\n",
       "      <td>Dog</td>\n",
       "      <td>Neutered Male</td>\n",
       "      <td>2 years</td>\n",
       "      <td>Pit Bull Mix</td>\n",
       "      <td>Blue/White</td>\n",
       "    </tr>\n",
       "    <tr>\n",
       "      <th>3</th>\n",
       "      <td>NaN</td>\n",
       "      <td>2014-07-11 19:09:00</td>\n",
       "      <td>1</td>\n",
       "      <td>Cat</td>\n",
       "      <td>Intact Male</td>\n",
       "      <td>3 weeks</td>\n",
       "      <td>Domestic Shorthair Mix</td>\n",
       "      <td>Blue Cream</td>\n",
       "    </tr>\n",
       "    <tr>\n",
       "      <th>4</th>\n",
       "      <td>NaN</td>\n",
       "      <td>2013-11-15 12:52:00</td>\n",
       "      <td>1</td>\n",
       "      <td>Dog</td>\n",
       "      <td>Neutered Male</td>\n",
       "      <td>2 years</td>\n",
       "      <td>Lhasa Apso/Miniature Poodle</td>\n",
       "      <td>Tan</td>\n",
       "    </tr>\n",
       "  </tbody>\n",
       "</table>\n",
       "</div>"
      ],
      "text/plain": [
       "      Name             DateTime  OutcomeType AnimalType SexuponOutcome  \\\n",
       "0  Hambone  2014-02-12 18:22:00            2        Dog  Neutered Male   \n",
       "1    Emily  2013-10-13 12:44:00            3        Cat  Spayed Female   \n",
       "2   Pearce  2015-01-31 12:28:00            0        Dog  Neutered Male   \n",
       "3      NaN  2014-07-11 19:09:00            1        Cat    Intact Male   \n",
       "4      NaN  2013-11-15 12:52:00            1        Dog  Neutered Male   \n",
       "\n",
       "  AgeuponOutcome                        Breed        Color  \n",
       "0         1 year        Shetland Sheepdog Mix  Brown/White  \n",
       "1         1 year       Domestic Shorthair Mix  Cream Tabby  \n",
       "2        2 years                 Pit Bull Mix   Blue/White  \n",
       "3        3 weeks       Domestic Shorthair Mix   Blue Cream  \n",
       "4        2 years  Lhasa Apso/Miniature Poodle          Tan  "
      ]
     },
     "execution_count": 33,
     "metadata": {},
     "output_type": "execute_result"
    }
   ],
   "source": [
    "df.head()"
   ]
  },
  {
   "cell_type": "code",
   "execution_count": 34,
   "metadata": {},
   "outputs": [
    {
     "data": {
      "text/plain": [
       "(26729, 8)"
      ]
     },
     "execution_count": 34,
     "metadata": {},
     "output_type": "execute_result"
    }
   ],
   "source": [
    "df.shape"
   ]
  },
  {
   "cell_type": "code",
   "execution_count": 35,
   "metadata": {},
   "outputs": [
    {
     "data": {
      "text/plain": [
       "DateTime          0.000000\n",
       "OutcomeType       0.000000\n",
       "AnimalType        0.000000\n",
       "Breed             0.000000\n",
       "Color             0.000000\n",
       "SexuponOutcome    0.000037\n",
       "AgeuponOutcome    0.000673\n",
       "Name              0.287740\n",
       "dtype: float64"
      ]
     },
     "execution_count": 35,
     "metadata": {},
     "output_type": "execute_result"
    }
   ],
   "source": [
    "(df.isna().sum()/df.shape[0]).sort_values()"
   ]
  },
  {
   "cell_type": "code",
   "execution_count": 36,
   "metadata": {},
   "outputs": [
    {
     "name": "stdout",
     "output_type": "stream",
     "text": [
      "<class 'pandas.core.frame.DataFrame'>\n",
      "RangeIndex: 26729 entries, 0 to 26728\n",
      "Data columns (total 8 columns):\n",
      "Name              19038 non-null object\n",
      "DateTime          26729 non-null object\n",
      "OutcomeType       26729 non-null int64\n",
      "AnimalType        26729 non-null object\n",
      "SexuponOutcome    26728 non-null object\n",
      "AgeuponOutcome    26711 non-null object\n",
      "Breed             26729 non-null object\n",
      "Color             26729 non-null object\n",
      "dtypes: int64(1), object(7)\n",
      "memory usage: 1.6+ MB\n"
     ]
    }
   ],
   "source": [
    "df.info()"
   ]
  },
  {
   "cell_type": "code",
   "execution_count": 37,
   "metadata": {},
   "outputs": [
    {
     "data": {
      "text/plain": [
       "Name               6374\n",
       "DateTime          22918\n",
       "OutcomeType           5\n",
       "AnimalType            2\n",
       "SexuponOutcome        5\n",
       "AgeuponOutcome       44\n",
       "Breed              1380\n",
       "Color               366\n",
       "dtype: int64"
      ]
     },
     "execution_count": 37,
     "metadata": {},
     "output_type": "execute_result"
    }
   ],
   "source": [
    "df.nunique()"
   ]
  },
  {
   "cell_type": "code",
   "execution_count": 38,
   "metadata": {},
   "outputs": [
    {
     "name": "stdout",
     "output_type": "stream",
     "text": [
      "Name\n",
      "Max         136\n",
      "Bella       135\n",
      "Charlie     107\n",
      "Daisy       106\n",
      "Lucy         94\n",
      "           ... \n",
      "Teeny         1\n",
      "Teeger        1\n",
      "Patti         1\n",
      "Saverina      1\n",
      "Becca         1\n",
      "Name: Name, Length: 6374, dtype: int64\n",
      "\n",
      "\n",
      "DateTime\n",
      "2015-08-11 00:00:00    19\n",
      "2015-11-17 00:00:00    17\n",
      "2015-07-02 00:00:00    13\n",
      "2015-04-02 00:00:00    11\n",
      "2014-08-31 09:00:00    10\n",
      "                       ..\n",
      "2016-01-29 14:53:00     1\n",
      "2014-08-07 18:50:00     1\n",
      "2015-12-18 14:44:00     1\n",
      "2015-02-08 18:16:00     1\n",
      "2015-07-19 17:30:00     1\n",
      "Name: DateTime, Length: 22918, dtype: int64\n",
      "\n",
      "\n",
      "OutcomeType\n",
      "0    10769\n",
      "1     9422\n",
      "2     4786\n",
      "3     1555\n",
      "4      197\n",
      "Name: OutcomeType, dtype: int64\n",
      "\n",
      "\n",
      "AnimalType\n",
      "Dog    15595\n",
      "Cat    11134\n",
      "Name: AnimalType, dtype: int64\n",
      "\n",
      "\n",
      "SexuponOutcome\n",
      "Neutered Male    9779\n",
      "Spayed Female    8820\n",
      "Intact Male      3525\n",
      "Intact Female    3511\n",
      "Unknown          1093\n",
      "Name: SexuponOutcome, dtype: int64\n",
      "\n",
      "\n",
      "AgeuponOutcome\n",
      "1 year       3969\n",
      "2 years      3742\n",
      "2 months     3397\n",
      "3 years      1823\n",
      "1 month      1281\n",
      "3 months     1277\n",
      "4 years      1071\n",
      "5 years       992\n",
      "4 months      888\n",
      "6 years       670\n",
      "3 weeks       659\n",
      "5 months      652\n",
      "6 months      588\n",
      "8 years       536\n",
      "7 years       531\n",
      "2 weeks       529\n",
      "10 months     457\n",
      "10 years      446\n",
      "8 months      402\n",
      "4 weeks       334\n",
      "9 years       288\n",
      "7 months      288\n",
      "12 years      234\n",
      "9 months      224\n",
      "1 weeks       171\n",
      "11 months     166\n",
      "1 week        146\n",
      "13 years      143\n",
      "11 years      126\n",
      "3 days        109\n",
      "2 days         99\n",
      "14 years       97\n",
      "15 years       85\n",
      "1 day          66\n",
      "6 days         50\n",
      "4 days         50\n",
      "16 years       36\n",
      "5 days         24\n",
      "0 years        22\n",
      "17 years       17\n",
      "5 weeks        11\n",
      "18 years       10\n",
      "19 years        3\n",
      "20 years        2\n",
      "Name: AgeuponOutcome, dtype: int64\n",
      "\n",
      "\n",
      "Breed\n",
      "Domestic Shorthair Mix              8810\n",
      "Pit Bull Mix                        1906\n",
      "Chihuahua Shorthair Mix             1766\n",
      "Labrador Retriever Mix              1363\n",
      "Domestic Medium Hair Mix             839\n",
      "                                    ... \n",
      "Rat Terrier/Jack Russell Terrier       1\n",
      "Dachshund Longhair/Cairn Terrier       1\n",
      "Doberman Pinsch/Border Collie          1\n",
      "Pomeranian/Schipperke                  1\n",
      "Staffordshire/Beagle                   1\n",
      "Name: Breed, Length: 1380, dtype: int64\n",
      "\n",
      "\n",
      "Color\n",
      "Black/White           2824\n",
      "Black                 2292\n",
      "Brown Tabby           1635\n",
      "Brown Tabby/White      940\n",
      "White                  931\n",
      "                      ... \n",
      "Gold/Buff                1\n",
      "Blue Merle/Red           1\n",
      "Tan/Apricot              1\n",
      "White/Flame Point        1\n",
      "Orange Tabby/Black       1\n",
      "Name: Color, Length: 366, dtype: int64\n",
      "\n",
      "\n"
     ]
    }
   ],
   "source": [
    "for cl in df.columns:\n",
    "    print(cl)\n",
    "    print(df[cl].value_counts())\n",
    "    print(\"\\n\")"
   ]
  },
  {
   "cell_type": "markdown",
   "metadata": {},
   "source": [
    "## preprocessing"
   ]
  },
  {
   "cell_type": "code",
   "execution_count": 39,
   "metadata": {},
   "outputs": [],
   "source": [
    "from sklearn.model_selection import train_test_split"
   ]
  },
  {
   "cell_type": "code",
   "execution_count": 40,
   "metadata": {},
   "outputs": [],
   "source": [
    "X_train, X_test, y_train, y_test = \\\n",
    "train_test_split(df.drop(columns=target),df[target], \n",
    "                 test_size=0.3, random_state=42, stratify=df[target])"
   ]
  },
  {
   "cell_type": "code",
   "execution_count": 41,
   "metadata": {},
   "outputs": [],
   "source": [
    "from sklearn.impute import SimpleImputer\n",
    "from sklearn.pipeline import Pipeline, FeatureUnion\n",
    "from sklearn.preprocessing import FunctionTransformer\n",
    "from sklearn.ensemble import RandomForestClassifier\n",
    "from sklearn.compose import ColumnTransformer\n",
    "from sklearn.preprocessing import OrdinalEncoder\n",
    "from sklearn.base import TransformerMixin"
   ]
  },
  {
   "cell_type": "code",
   "execution_count": 42,
   "metadata": {},
   "outputs": [],
   "source": [
    "class SimpleImputerDf(SimpleImputer):\n",
    "    \"\"\"DataFrame Wrapper around SimpleImputer\"\"\"\n",
    "    def __init__(self, strategy):\n",
    "        super(SimpleImputerDf, self).__init__(strategy=strategy)\n",
    "\n",
    "    def fit(self, X, y=None):\n",
    "        if len(X.values.shape)==1:\n",
    "            vals = X.values.reshape(-1,1)\n",
    "        else:\n",
    "            vals = X.values    \n",
    "        return super(SimpleImputerDf, self).fit(vals)\n",
    "    \n",
    "    def transform(self, X, y=None):\n",
    "        if len(X.values.shape)==1:\n",
    "            vals = X.values.reshape(-1,1)\n",
    "            names = [X.name]\n",
    "        else:\n",
    "            vals = X.values\n",
    "            names = X.columns\n",
    "        z = super(SimpleImputerDf, self).transform(vals)\n",
    "        return pd.DataFrame(z, index=X.index, columns=names)\n",
    "    \n",
    "class OrdinalEncoderDf(OrdinalEncoder):\n",
    "    \"\"\"DataFrame Wrapper around OrdinalEncoderDf\"\"\"\n",
    "    def __init__(self):\n",
    "        super(OrdinalEncoderDf, self).__init__()\n",
    "\n",
    "    def transform(self, X, y=None):\n",
    "        z = super(OrdinalEncoderDf, self).transform(X.values)\n",
    "        return pd.DataFrame(z, index=X.index, columns=X.columns)\n",
    "\n",
    "class DenseTransformer(TransformerMixin):\n",
    "\n",
    "    def fit(self, X, y=None, **fit_params):\n",
    "        return self\n",
    "\n",
    "    def transform(self, X, y=None, **fit_params):\n",
    "        return X.todense()"
   ]
  },
  {
   "cell_type": "code",
   "execution_count": 43,
   "metadata": {},
   "outputs": [],
   "source": [
    "# преобразуем поля пола и типа животного\n",
    "# нет необходимости использовать one hot encoder, так как дерево за нас сделает необходимые разбивки\n",
    "features_1 = Pipeline([\n",
    "    (\"get features\", FunctionTransformer(lambda x: x[[\"AnimalType\", \"SexuponOutcome\"]])),\n",
    "    (\"impute\", SimpleImputerDf(strategy=\"most_frequent\")),\n",
    "    (\"encode\", OrdinalEncoderDf())\n",
    "])"
   ]
  },
  {
   "cell_type": "code",
   "execution_count": 44,
   "metadata": {},
   "outputs": [],
   "source": [
    "# преобразуем дату в набор год/месяц/день недели\n",
    "def create_time_features(df):\n",
    "    dt = pd.to_datetime(df.iloc[:,0])\n",
    "    return pd.DataFrame([dt.dt.year.rename(\"yr\"), dt.dt.month.rename(\"mn\"), dt.dt.weekday.rename(\"weekday\")]).T\n",
    "\n",
    "features_2 = Pipeline([\n",
    "    (\"get features\", FunctionTransformer(lambda x: x[\"DateTime\"])),\n",
    "    (\"impute\", SimpleImputerDf(strategy=\"most_frequent\")),\n",
    "    (\"create_time_features\", FunctionTransformer(create_time_features))\n",
    "])"
   ]
  },
  {
   "cell_type": "code",
   "execution_count": 45,
   "metadata": {},
   "outputs": [],
   "source": [
    "# преобразуем AgeuponOutcome в числовую переменную\n",
    "# преобразуем дату в набор год/месяц/день недели\n",
    "def preprocess_ageuponoutcome(df):\n",
    "    sr = df.iloc[:,0]\n",
    "    dct = {\n",
    "        'weeks':7,\n",
    "        'years':365, \n",
    "        'months':30, \n",
    "        'year':365, \n",
    "        'days':1, \n",
    "        'month':30, \n",
    "        'week':7, \n",
    "        'day':1        \n",
    "    }    \n",
    "    return (sr.apply(lambda x:str(x).split()[1]).map(dct) * sr.apply(lambda x: int(str(x).split()[0])) ).values.reshape(-1,1)\n",
    "\n",
    "features_3 = Pipeline([\n",
    "    (\"get features\", FunctionTransformer(lambda x: x[\"AgeuponOutcome\"])),\n",
    "    (\"impute\", SimpleImputerDf(strategy=\"most_frequent\")),\n",
    "    (\"calculate\", FunctionTransformer(preprocess_ageuponoutcome)),\n",
    "])"
   ]
  },
  {
   "cell_type": "code",
   "execution_count": 46,
   "metadata": {},
   "outputs": [],
   "source": [
    "# прочие переменные преобразуем с помощью Count Encoder\n",
    "from sklearn.feature_extraction.text import TfidfVectorizer, CountVectorizer\n",
    "from category_encoders import TargetEncoder, CountEncoder\n",
    "features_4 = Pipeline([\n",
    "    (\"get features\", FunctionTransformer(lambda x: x.loc[:,[\"Breed\", \"Name\", \"Color\"]])),\n",
    "    (\"impute\", SimpleImputerDf(strategy=\"most_frequent\")),\n",
    "#     (\"vectorize\", TfidfVectorizer(ngram_range = (1,2), max_features=40)),\n",
    "    (\"encode\", CountEncoder(handle_unknown=0, min_group_size=0.05)),\n",
    "#     (\"to_dense\", FunctionTransformer(lambda x: x.todense())),\n",
    "#     (\"dense\", DenseTransformer())\n",
    "])"
   ]
  },
  {
   "cell_type": "code",
   "execution_count": 47,
   "metadata": {},
   "outputs": [
    {
     "data": {
      "text/html": [
       "<div>\n",
       "<style scoped>\n",
       "    .dataframe tbody tr th:only-of-type {\n",
       "        vertical-align: middle;\n",
       "    }\n",
       "\n",
       "    .dataframe tbody tr th {\n",
       "        vertical-align: top;\n",
       "    }\n",
       "\n",
       "    .dataframe thead th {\n",
       "        text-align: right;\n",
       "    }\n",
       "</style>\n",
       "<table border=\"1\" class=\"dataframe\">\n",
       "  <thead>\n",
       "    <tr style=\"text-align: right;\">\n",
       "      <th></th>\n",
       "      <th>AnimalType</th>\n",
       "      <th>SexuponOutcome</th>\n",
       "      <th>yr</th>\n",
       "      <th>mn</th>\n",
       "      <th>weekday</th>\n",
       "      <th>AgeuponOutcome</th>\n",
       "      <th>Breed</th>\n",
       "      <th>Name</th>\n",
       "      <th>Color</th>\n",
       "    </tr>\n",
       "  </thead>\n",
       "  <tbody>\n",
       "    <tr>\n",
       "      <th>0</th>\n",
       "      <td>0.0</td>\n",
       "      <td>2.0</td>\n",
       "      <td>2013.0</td>\n",
       "      <td>11.0</td>\n",
       "      <td>5.0</td>\n",
       "      <td>60.0</td>\n",
       "      <td>6186.0</td>\n",
       "      <td>1.0</td>\n",
       "      <td>1561.0</td>\n",
       "    </tr>\n",
       "    <tr>\n",
       "      <th>1</th>\n",
       "      <td>1.0</td>\n",
       "      <td>1.0</td>\n",
       "      <td>2015.0</td>\n",
       "      <td>7.0</td>\n",
       "      <td>3.0</td>\n",
       "      <td>30.0</td>\n",
       "      <td>1342.0</td>\n",
       "      <td>5452.0</td>\n",
       "      <td>485.0</td>\n",
       "    </tr>\n",
       "    <tr>\n",
       "      <th>2</th>\n",
       "      <td>0.0</td>\n",
       "      <td>1.0</td>\n",
       "      <td>2015.0</td>\n",
       "      <td>8.0</td>\n",
       "      <td>1.0</td>\n",
       "      <td>21.0</td>\n",
       "      <td>18.0</td>\n",
       "      <td>5452.0</td>\n",
       "      <td>25.0</td>\n",
       "    </tr>\n",
       "    <tr>\n",
       "      <th>3</th>\n",
       "      <td>0.0</td>\n",
       "      <td>2.0</td>\n",
       "      <td>2013.0</td>\n",
       "      <td>11.0</td>\n",
       "      <td>3.0</td>\n",
       "      <td>365.0</td>\n",
       "      <td>272.0</td>\n",
       "      <td>7.0</td>\n",
       "      <td>60.0</td>\n",
       "    </tr>\n",
       "    <tr>\n",
       "      <th>4</th>\n",
       "      <td>0.0</td>\n",
       "      <td>2.0</td>\n",
       "      <td>2015.0</td>\n",
       "      <td>12.0</td>\n",
       "      <td>3.0</td>\n",
       "      <td>1825.0</td>\n",
       "      <td>6186.0</td>\n",
       "      <td>4.0</td>\n",
       "      <td>310.0</td>\n",
       "    </tr>\n",
       "  </tbody>\n",
       "</table>\n",
       "</div>"
      ],
      "text/plain": [
       "   AnimalType  SexuponOutcome      yr    mn  weekday  AgeuponOutcome   Breed  \\\n",
       "0         0.0             2.0  2013.0  11.0      5.0            60.0  6186.0   \n",
       "1         1.0             1.0  2015.0   7.0      3.0            30.0  1342.0   \n",
       "2         0.0             1.0  2015.0   8.0      1.0            21.0    18.0   \n",
       "3         0.0             2.0  2013.0  11.0      3.0           365.0   272.0   \n",
       "4         0.0             2.0  2015.0  12.0      3.0          1825.0  6186.0   \n",
       "\n",
       "     Name   Color  \n",
       "0     1.0  1561.0  \n",
       "1  5452.0   485.0  \n",
       "2  5452.0    25.0  \n",
       "3     7.0    60.0  \n",
       "4     4.0   310.0  "
      ]
     },
     "execution_count": 47,
     "metadata": {},
     "output_type": "execute_result"
    }
   ],
   "source": [
    "preprocessing_pipeline = FeatureUnion([\n",
    "    (\"1\", features_1),\n",
    "    (\"2\", features_2),\n",
    "    (\"3\", features_3),\n",
    "    (\"4\", features_4),    \n",
    "\n",
    "])\n",
    "\n",
    "column_names = [\"AnimalType\", \"SexuponOutcome\",\n",
    "             \"yr\",\"mn\", \"weekday\",\n",
    "             \"AgeuponOutcome\",\n",
    "             \"Breed\", \"Name\", \"Color\"\n",
    "            ]\n",
    "\n",
    "pd.DataFrame(preprocessing_pipeline.fit_transform(X_train), columns=column_names).head()"
   ]
  },
  {
   "cell_type": "markdown",
   "metadata": {},
   "source": [
    "## Моделирование"
   ]
  },
  {
   "cell_type": "code",
   "execution_count": 48,
   "metadata": {},
   "outputs": [],
   "source": [
    "from sklearn.ensemble import RandomForestClassifier\n",
    "from sklearn.dummy import DummyClassifier\n",
    "from sklearn.metrics import confusion_matrix, classification_report\n"
   ]
  },
  {
   "cell_type": "code",
   "execution_count": 49,
   "metadata": {},
   "outputs": [],
   "source": [
    "model = RandomForestClassifier()\n",
    "baseline = DummyClassifier(strategy =\"stratified\")"
   ]
  },
  {
   "cell_type": "code",
   "execution_count": 50,
   "metadata": {},
   "outputs": [],
   "source": [
    "pl = Pipeline([\n",
    "    (\"preprocess\", preprocessing_pipeline),\n",
    "    (\"model\", model) \n",
    "])\n",
    "pl.fit(X_train, y_train)\n",
    "y_predicted = pl.predict(X_test)"
   ]
  },
  {
   "cell_type": "code",
   "execution_count": 51,
   "metadata": {},
   "outputs": [],
   "source": [
    "baseline.fit(X_train, y_train)\n",
    "y_predicted_baseline = baseline.predict(X_test)"
   ]
  },
  {
   "cell_type": "code",
   "execution_count": 52,
   "metadata": {},
   "outputs": [
    {
     "name": "stdout",
     "output_type": "stream",
     "text": [
      "baseline\n",
      "                 precision    recall  f1-score   support\n",
      "\n",
      "       Adoption       0.42      0.42      0.42      3231\n",
      "       Transfer       0.35      0.36      0.36      2827\n",
      "Return_to_owner       0.18      0.17      0.18      1436\n",
      "     Euthanasia       0.06      0.06      0.06       466\n",
      "           Died       0.00      0.00      0.00        59\n",
      "\n",
      "       accuracy                           0.33      8019\n",
      "      macro avg       0.20      0.20      0.20      8019\n",
      "   weighted avg       0.33      0.33      0.33      8019\n",
      "\n",
      "model\n",
      "                 precision    recall  f1-score   support\n",
      "\n",
      "       Adoption       0.68      0.81      0.74      3231\n",
      "       Transfer       0.71      0.66      0.69      2827\n",
      "Return_to_owner       0.45      0.43      0.44      1436\n",
      "     Euthanasia       0.57      0.20      0.30       466\n",
      "           Died       0.75      0.05      0.10        59\n",
      "\n",
      "       accuracy                           0.65      8019\n",
      "      macro avg       0.63      0.43      0.45      8019\n",
      "   weighted avg       0.64      0.65      0.64      8019\n",
      "\n"
     ]
    }
   ],
   "source": [
    "print(\"baseline\")\n",
    "print(classification_report(y_test, y_predicted_baseline, target_names =target_dict.keys()))\n",
    "print(\"model\")\n",
    "print(classification_report(y_test, y_predicted, target_names =target_dict.keys()))"
   ]
  },
  {
   "cell_type": "markdown",
   "metadata": {},
   "source": [
    "## Видим, что модель гораздо круче базовой линии. Подберем параметры классификатотра и еще раз посмотрим на результат"
   ]
  },
  {
   "cell_type": "code",
   "execution_count": 53,
   "metadata": {},
   "outputs": [
    {
     "name": "stdout",
     "output_type": "stream",
     "text": [
      "Fitting 5 folds for each of 20 candidates, totalling 100 fits\n"
     ]
    },
    {
     "name": "stderr",
     "output_type": "stream",
     "text": [
      "[Parallel(n_jobs=-1)]: Using backend LokyBackend with 4 concurrent workers.\n",
      "[Parallel(n_jobs=-1)]: Done  42 tasks      | elapsed: 15.8min\n",
      "[Parallel(n_jobs=-1)]: Done 100 out of 100 | elapsed: 24.2min finished\n"
     ]
    },
    {
     "name": "stdout",
     "output_type": "stream",
     "text": [
      "Wall time: 24min 31s\n"
     ]
    },
    {
     "data": {
      "text/plain": [
       "{'model__n_estimators': 784, 'model__max_depth': 10}"
      ]
     },
     "execution_count": 53,
     "metadata": {},
     "output_type": "execute_result"
    }
   ],
   "source": [
    "%%time\n",
    "param_grid = {\n",
    "    'model__max_depth': [None, 2,3,5,10,15,20,30,40],\n",
    "#     'model__min_samples_leaf': [1,2,5,10,0.01,0.05,0.1,0.2],\n",
    "    'model__n_estimators': np.logspace(0.5,4,20).astype(int)\n",
    "}\n",
    "search = RandomizedSearchCV(pl, param_grid, n_jobs=-1, cv=5, verbose=1,n_iter=20)\n",
    "search.fit(X_train, y_train)\n",
    "search.best_params_"
   ]
  },
  {
   "cell_type": "code",
   "execution_count": 54,
   "metadata": {},
   "outputs": [
    {
     "data": {
      "text/html": [
       "<div>\n",
       "<style scoped>\n",
       "    .dataframe tbody tr th:only-of-type {\n",
       "        vertical-align: middle;\n",
       "    }\n",
       "\n",
       "    .dataframe tbody tr th {\n",
       "        vertical-align: top;\n",
       "    }\n",
       "\n",
       "    .dataframe thead th {\n",
       "        text-align: right;\n",
       "    }\n",
       "</style>\n",
       "<table border=\"1\" class=\"dataframe\">\n",
       "  <thead>\n",
       "    <tr style=\"text-align: right;\">\n",
       "      <th></th>\n",
       "      <th>mean_fit_time</th>\n",
       "      <th>std_fit_time</th>\n",
       "      <th>mean_score_time</th>\n",
       "      <th>std_score_time</th>\n",
       "      <th>param_model__n_estimators</th>\n",
       "      <th>param_model__max_depth</th>\n",
       "      <th>params</th>\n",
       "      <th>split0_test_score</th>\n",
       "      <th>split1_test_score</th>\n",
       "      <th>split2_test_score</th>\n",
       "      <th>split3_test_score</th>\n",
       "      <th>split4_test_score</th>\n",
       "      <th>mean_test_score</th>\n",
       "      <th>std_test_score</th>\n",
       "      <th>rank_test_score</th>\n",
       "    </tr>\n",
       "  </thead>\n",
       "  <tbody>\n",
       "    <tr>\n",
       "      <th>14</th>\n",
       "      <td>18.205363</td>\n",
       "      <td>0.583672</td>\n",
       "      <td>1.278603</td>\n",
       "      <td>0.187941</td>\n",
       "      <td>784</td>\n",
       "      <td>10</td>\n",
       "      <td>{'model__n_estimators': 784, 'model__max_depth...</td>\n",
       "      <td>0.648316</td>\n",
       "      <td>0.657135</td>\n",
       "      <td>0.654997</td>\n",
       "      <td>0.657135</td>\n",
       "      <td>0.661678</td>\n",
       "      <td>0.655852</td>\n",
       "      <td>0.004353</td>\n",
       "      <td>1</td>\n",
       "    </tr>\n",
       "    <tr>\n",
       "      <th>0</th>\n",
       "      <td>3.043330</td>\n",
       "      <td>0.170009</td>\n",
       "      <td>0.449508</td>\n",
       "      <td>0.059180</td>\n",
       "      <td>17</td>\n",
       "      <td>10</td>\n",
       "      <td>{'model__n_estimators': 17, 'model__max_depth'...</td>\n",
       "      <td>0.644041</td>\n",
       "      <td>0.657937</td>\n",
       "      <td>0.653394</td>\n",
       "      <td>0.653394</td>\n",
       "      <td>0.656601</td>\n",
       "      <td>0.653073</td>\n",
       "      <td>0.004856</td>\n",
       "      <td>2</td>\n",
       "    </tr>\n",
       "    <tr>\n",
       "      <th>10</th>\n",
       "      <td>10.478196</td>\n",
       "      <td>0.136900</td>\n",
       "      <td>0.895011</td>\n",
       "      <td>0.048441</td>\n",
       "      <td>219</td>\n",
       "      <td>20</td>\n",
       "      <td>{'model__n_estimators': 219, 'model__max_depth...</td>\n",
       "      <td>0.642972</td>\n",
       "      <td>0.645110</td>\n",
       "      <td>0.641101</td>\n",
       "      <td>0.645911</td>\n",
       "      <td>0.651523</td>\n",
       "      <td>0.645323</td>\n",
       "      <td>0.003527</td>\n",
       "      <td>3</td>\n",
       "    </tr>\n",
       "    <tr>\n",
       "      <th>8</th>\n",
       "      <td>250.710045</td>\n",
       "      <td>11.384021</td>\n",
       "      <td>65.548157</td>\n",
       "      <td>22.333533</td>\n",
       "      <td>6543</td>\n",
       "      <td>30</td>\n",
       "      <td>{'model__n_estimators': 6543, 'model__max_dept...</td>\n",
       "      <td>0.639765</td>\n",
       "      <td>0.644842</td>\n",
       "      <td>0.639765</td>\n",
       "      <td>0.646713</td>\n",
       "      <td>0.651523</td>\n",
       "      <td>0.644522</td>\n",
       "      <td>0.004454</td>\n",
       "      <td>4</td>\n",
       "    </tr>\n",
       "    <tr>\n",
       "      <th>2</th>\n",
       "      <td>277.098594</td>\n",
       "      <td>25.560969</td>\n",
       "      <td>84.219596</td>\n",
       "      <td>35.836678</td>\n",
       "      <td>6543</td>\n",
       "      <td>None</td>\n",
       "      <td>{'model__n_estimators': 6543, 'model__max_dept...</td>\n",
       "      <td>0.640567</td>\n",
       "      <td>0.646446</td>\n",
       "      <td>0.639498</td>\n",
       "      <td>0.645110</td>\n",
       "      <td>0.650722</td>\n",
       "      <td>0.644468</td>\n",
       "      <td>0.004083</td>\n",
       "      <td>5</td>\n",
       "    </tr>\n",
       "  </tbody>\n",
       "</table>\n",
       "</div>"
      ],
      "text/plain": [
       "    mean_fit_time  std_fit_time  mean_score_time  std_score_time  \\\n",
       "14      18.205363      0.583672         1.278603        0.187941   \n",
       "0        3.043330      0.170009         0.449508        0.059180   \n",
       "10      10.478196      0.136900         0.895011        0.048441   \n",
       "8      250.710045     11.384021        65.548157       22.333533   \n",
       "2      277.098594     25.560969        84.219596       35.836678   \n",
       "\n",
       "   param_model__n_estimators param_model__max_depth  \\\n",
       "14                       784                     10   \n",
       "0                         17                     10   \n",
       "10                       219                     20   \n",
       "8                       6543                     30   \n",
       "2                       6543                   None   \n",
       "\n",
       "                                               params  split0_test_score  \\\n",
       "14  {'model__n_estimators': 784, 'model__max_depth...           0.648316   \n",
       "0   {'model__n_estimators': 17, 'model__max_depth'...           0.644041   \n",
       "10  {'model__n_estimators': 219, 'model__max_depth...           0.642972   \n",
       "8   {'model__n_estimators': 6543, 'model__max_dept...           0.639765   \n",
       "2   {'model__n_estimators': 6543, 'model__max_dept...           0.640567   \n",
       "\n",
       "    split1_test_score  split2_test_score  split3_test_score  \\\n",
       "14           0.657135           0.654997           0.657135   \n",
       "0            0.657937           0.653394           0.653394   \n",
       "10           0.645110           0.641101           0.645911   \n",
       "8            0.644842           0.639765           0.646713   \n",
       "2            0.646446           0.639498           0.645110   \n",
       "\n",
       "    split4_test_score  mean_test_score  std_test_score  rank_test_score  \n",
       "14           0.661678         0.655852        0.004353                1  \n",
       "0            0.656601         0.653073        0.004856                2  \n",
       "10           0.651523         0.645323        0.003527                3  \n",
       "8            0.651523         0.644522        0.004454                4  \n",
       "2            0.650722         0.644468        0.004083                5  "
      ]
     },
     "execution_count": 54,
     "metadata": {},
     "output_type": "execute_result"
    }
   ],
   "source": [
    "pd.DataFrame(search.cv_results_).sort_values(by=\"rank_test_score\").head()"
   ]
  },
  {
   "cell_type": "markdown",
   "metadata": {},
   "source": [
    "## на мой вззгляд самая приличная модель у нас на 4 месте - высокий уровень метрики при низком среднеквадратическом отклоннии. При этом глубина модельки маленькая, она быстро обучается. Поищем оптимальное решение в окрестности найденных параметров"
   ]
  },
  {
   "cell_type": "code",
   "execution_count": 55,
   "metadata": {},
   "outputs": [
    {
     "name": "stdout",
     "output_type": "stream",
     "text": [
      "Fitting 5 folds for each of 25 candidates, totalling 125 fits\n"
     ]
    },
    {
     "name": "stderr",
     "output_type": "stream",
     "text": [
      "[Parallel(n_jobs=-1)]: Using backend LokyBackend with 4 concurrent workers.\n",
      "[Parallel(n_jobs=-1)]: Done  42 tasks      | elapsed:   37.2s\n",
      "[Parallel(n_jobs=-1)]: Done 125 out of 125 | elapsed:  1.8min finished\n"
     ]
    },
    {
     "name": "stdout",
     "output_type": "stream",
     "text": [
      "Wall time: 1min 49s\n"
     ]
    },
    {
     "data": {
      "text/plain": [
       "{'model__max_depth': 9, 'model__n_estimators': 11}"
      ]
     },
     "execution_count": 55,
     "metadata": {},
     "output_type": "execute_result"
    }
   ],
   "source": [
    "%%time\n",
    "param_grid = {\n",
    "    'model__max_depth': [8,9,10,11,12],\n",
    "#     'model__min_samples_leaf': [1,2,5,10,0.01,0.05,0.1,0.2],\n",
    "    'model__n_estimators': [8,9,10,11,12]\n",
    "}\n",
    "search = GridSearchCV(pl, param_grid, n_jobs=-1, cv=5, verbose=1)\n",
    "search.fit(X_train, y_train)\n",
    "search.best_params_"
   ]
  },
  {
   "cell_type": "code",
   "execution_count": 56,
   "metadata": {},
   "outputs": [
    {
     "name": "stdout",
     "output_type": "stream",
     "text": [
      "модель с подобранными параметрами\n",
      "                 precision    recall  f1-score   support\n",
      "\n",
      "       Adoption       0.66      0.84      0.74      3231\n",
      "       Transfer       0.72      0.64      0.68      2827\n",
      "Return_to_owner       0.47      0.46      0.46      1436\n",
      "     Euthanasia       0.59      0.09      0.16       466\n",
      "           Died       0.00      0.00      0.00        59\n",
      "\n",
      "       accuracy                           0.65      8019\n",
      "      macro avg       0.49      0.41      0.41      8019\n",
      "   weighted avg       0.64      0.65      0.63      8019\n",
      "\n"
     ]
    },
    {
     "name": "stderr",
     "output_type": "stream",
     "text": [
      "C:\\Users\\Asus\\Miniconda3\\envs\\otus_ml\\lib\\site-packages\\sklearn\\metrics\\_classification.py:1268: UndefinedMetricWarning: Precision and F-score are ill-defined and being set to 0.0 in labels with no predicted samples. Use `zero_division` parameter to control this behavior.\n",
      "  _warn_prf(average, modifier, msg_start, len(result))\n"
     ]
    }
   ],
   "source": [
    "print(\"модель с подобранными параметрами\")\n",
    "y_predicted = search.predict(X_test)\n",
    "print(classification_report(y_test, y_predicted, target_names =target_dict.keys()))"
   ]
  },
  {
   "cell_type": "code",
   "execution_count": 57,
   "metadata": {},
   "outputs": [
    {
     "data": {
      "text/plain": [
       "array([[2704,  204,  321,    2,    0],\n",
       "       [ 698, 1803,  307,   19,    0],\n",
       "       [ 602,  172,  655,    7,    0],\n",
       "       [  58,  262,  102,   44,    0],\n",
       "       [   6,   51,    0,    2,    0]], dtype=int64)"
      ]
     },
     "execution_count": 57,
     "metadata": {},
     "output_type": "execute_result"
    }
   ],
   "source": [
    "confusion_matrix(y_test, y_predicted)"
   ]
  },
  {
   "cell_type": "code",
   "execution_count": 58,
   "metadata": {},
   "outputs": [],
   "source": [
    "### что-то качество не приросло"
   ]
  },
  {
   "cell_type": "code",
   "execution_count": 59,
   "metadata": {},
   "outputs": [
    {
     "data": {
      "text/html": [
       "<div>\n",
       "<style scoped>\n",
       "    .dataframe tbody tr th:only-of-type {\n",
       "        vertical-align: middle;\n",
       "    }\n",
       "\n",
       "    .dataframe tbody tr th {\n",
       "        vertical-align: top;\n",
       "    }\n",
       "\n",
       "    .dataframe thead th {\n",
       "        text-align: right;\n",
       "    }\n",
       "</style>\n",
       "<table border=\"1\" class=\"dataframe\">\n",
       "  <thead>\n",
       "    <tr style=\"text-align: right;\">\n",
       "      <th></th>\n",
       "      <th>mean_fit_time</th>\n",
       "      <th>std_fit_time</th>\n",
       "      <th>mean_score_time</th>\n",
       "      <th>std_score_time</th>\n",
       "      <th>param_model__max_depth</th>\n",
       "      <th>param_model__n_estimators</th>\n",
       "      <th>params</th>\n",
       "      <th>split0_test_score</th>\n",
       "      <th>split1_test_score</th>\n",
       "      <th>split2_test_score</th>\n",
       "      <th>split3_test_score</th>\n",
       "      <th>split4_test_score</th>\n",
       "      <th>mean_test_score</th>\n",
       "      <th>std_test_score</th>\n",
       "      <th>rank_test_score</th>\n",
       "    </tr>\n",
       "  </thead>\n",
       "  <tbody>\n",
       "    <tr>\n",
       "      <th>8</th>\n",
       "      <td>2.715960</td>\n",
       "      <td>0.059849</td>\n",
       "      <td>0.444609</td>\n",
       "      <td>0.021156</td>\n",
       "      <td>9</td>\n",
       "      <td>11</td>\n",
       "      <td>{'model__max_depth': 9, 'model__n_estimators':...</td>\n",
       "      <td>0.646446</td>\n",
       "      <td>0.657670</td>\n",
       "      <td>0.652859</td>\n",
       "      <td>0.659808</td>\n",
       "      <td>0.659006</td>\n",
       "      <td>0.655158</td>\n",
       "      <td>0.004978</td>\n",
       "      <td>1</td>\n",
       "    </tr>\n",
       "    <tr>\n",
       "      <th>0</th>\n",
       "      <td>2.762977</td>\n",
       "      <td>0.092352</td>\n",
       "      <td>0.453362</td>\n",
       "      <td>0.032222</td>\n",
       "      <td>8</td>\n",
       "      <td>8</td>\n",
       "      <td>{'model__max_depth': 8, 'model__n_estimators': 8}</td>\n",
       "      <td>0.644575</td>\n",
       "      <td>0.664083</td>\n",
       "      <td>0.649118</td>\n",
       "      <td>0.653928</td>\n",
       "      <td>0.653661</td>\n",
       "      <td>0.653073</td>\n",
       "      <td>0.006483</td>\n",
       "      <td>2</td>\n",
       "    </tr>\n",
       "    <tr>\n",
       "      <th>6</th>\n",
       "      <td>2.908193</td>\n",
       "      <td>0.099984</td>\n",
       "      <td>0.471107</td>\n",
       "      <td>0.026341</td>\n",
       "      <td>9</td>\n",
       "      <td>9</td>\n",
       "      <td>{'model__max_depth': 9, 'model__n_estimators': 9}</td>\n",
       "      <td>0.645110</td>\n",
       "      <td>0.650187</td>\n",
       "      <td>0.656601</td>\n",
       "      <td>0.656601</td>\n",
       "      <td>0.652058</td>\n",
       "      <td>0.652111</td>\n",
       "      <td>0.004314</td>\n",
       "      <td>3</td>\n",
       "    </tr>\n",
       "    <tr>\n",
       "      <th>13</th>\n",
       "      <td>2.796883</td>\n",
       "      <td>0.024254</td>\n",
       "      <td>0.472492</td>\n",
       "      <td>0.023761</td>\n",
       "      <td>10</td>\n",
       "      <td>11</td>\n",
       "      <td>{'model__max_depth': 10, 'model__n_estimators'...</td>\n",
       "      <td>0.648049</td>\n",
       "      <td>0.656868</td>\n",
       "      <td>0.649385</td>\n",
       "      <td>0.649920</td>\n",
       "      <td>0.654196</td>\n",
       "      <td>0.651684</td>\n",
       "      <td>0.003310</td>\n",
       "      <td>4</td>\n",
       "    </tr>\n",
       "    <tr>\n",
       "      <th>1</th>\n",
       "      <td>2.912920</td>\n",
       "      <td>0.047846</td>\n",
       "      <td>0.527708</td>\n",
       "      <td>0.025753</td>\n",
       "      <td>8</td>\n",
       "      <td>9</td>\n",
       "      <td>{'model__max_depth': 8, 'model__n_estimators': 9}</td>\n",
       "      <td>0.645644</td>\n",
       "      <td>0.652058</td>\n",
       "      <td>0.658204</td>\n",
       "      <td>0.653394</td>\n",
       "      <td>0.648584</td>\n",
       "      <td>0.651577</td>\n",
       "      <td>0.004280</td>\n",
       "      <td>5</td>\n",
       "    </tr>\n",
       "  </tbody>\n",
       "</table>\n",
       "</div>"
      ],
      "text/plain": [
       "    mean_fit_time  std_fit_time  mean_score_time  std_score_time  \\\n",
       "8        2.715960      0.059849         0.444609        0.021156   \n",
       "0        2.762977      0.092352         0.453362        0.032222   \n",
       "6        2.908193      0.099984         0.471107        0.026341   \n",
       "13       2.796883      0.024254         0.472492        0.023761   \n",
       "1        2.912920      0.047846         0.527708        0.025753   \n",
       "\n",
       "   param_model__max_depth param_model__n_estimators  \\\n",
       "8                       9                        11   \n",
       "0                       8                         8   \n",
       "6                       9                         9   \n",
       "13                     10                        11   \n",
       "1                       8                         9   \n",
       "\n",
       "                                               params  split0_test_score  \\\n",
       "8   {'model__max_depth': 9, 'model__n_estimators':...           0.646446   \n",
       "0   {'model__max_depth': 8, 'model__n_estimators': 8}           0.644575   \n",
       "6   {'model__max_depth': 9, 'model__n_estimators': 9}           0.645110   \n",
       "13  {'model__max_depth': 10, 'model__n_estimators'...           0.648049   \n",
       "1   {'model__max_depth': 8, 'model__n_estimators': 9}           0.645644   \n",
       "\n",
       "    split1_test_score  split2_test_score  split3_test_score  \\\n",
       "8            0.657670           0.652859           0.659808   \n",
       "0            0.664083           0.649118           0.653928   \n",
       "6            0.650187           0.656601           0.656601   \n",
       "13           0.656868           0.649385           0.649920   \n",
       "1            0.652058           0.658204           0.653394   \n",
       "\n",
       "    split4_test_score  mean_test_score  std_test_score  rank_test_score  \n",
       "8            0.659006         0.655158        0.004978                1  \n",
       "0            0.653661         0.653073        0.006483                2  \n",
       "6            0.652058         0.652111        0.004314                3  \n",
       "13           0.654196         0.651684        0.003310                4  \n",
       "1            0.648584         0.651577        0.004280                5  "
      ]
     },
     "execution_count": 59,
     "metadata": {},
     "output_type": "execute_result"
    }
   ],
   "source": [
    "pd.DataFrame(search.cv_results_).sort_values(by=\"rank_test_score\").head()"
   ]
  },
  {
   "cell_type": "markdown",
   "metadata": {},
   "source": [
    "### посмотрим на важность признаков"
   ]
  },
  {
   "cell_type": "code",
   "execution_count": 60,
   "metadata": {},
   "outputs": [
    {
     "data": {
      "text/html": [
       "<div>\n",
       "<style scoped>\n",
       "    .dataframe tbody tr th:only-of-type {\n",
       "        vertical-align: middle;\n",
       "    }\n",
       "\n",
       "    .dataframe tbody tr th {\n",
       "        vertical-align: top;\n",
       "    }\n",
       "\n",
       "    .dataframe thead th {\n",
       "        text-align: right;\n",
       "    }\n",
       "</style>\n",
       "<table border=\"1\" class=\"dataframe\">\n",
       "  <thead>\n",
       "    <tr style=\"text-align: right;\">\n",
       "      <th></th>\n",
       "      <th>0</th>\n",
       "    </tr>\n",
       "  </thead>\n",
       "  <tbody>\n",
       "    <tr>\n",
       "      <th>yr</th>\n",
       "      <td>0.015183</td>\n",
       "    </tr>\n",
       "    <tr>\n",
       "      <th>mn</th>\n",
       "      <td>0.030267</td>\n",
       "    </tr>\n",
       "    <tr>\n",
       "      <th>Color</th>\n",
       "      <td>0.034491</td>\n",
       "    </tr>\n",
       "    <tr>\n",
       "      <th>Breed</th>\n",
       "      <td>0.036637</td>\n",
       "    </tr>\n",
       "    <tr>\n",
       "      <th>weekday</th>\n",
       "      <td>0.048201</td>\n",
       "    </tr>\n",
       "    <tr>\n",
       "      <th>AnimalType</th>\n",
       "      <td>0.062395</td>\n",
       "    </tr>\n",
       "    <tr>\n",
       "      <th>Name</th>\n",
       "      <td>0.185142</td>\n",
       "    </tr>\n",
       "    <tr>\n",
       "      <th>AgeuponOutcome</th>\n",
       "      <td>0.265096</td>\n",
       "    </tr>\n",
       "    <tr>\n",
       "      <th>SexuponOutcome</th>\n",
       "      <td>0.322586</td>\n",
       "    </tr>\n",
       "  </tbody>\n",
       "</table>\n",
       "</div>"
      ],
      "text/plain": [
       "                       0\n",
       "yr              0.015183\n",
       "mn              0.030267\n",
       "Color           0.034491\n",
       "Breed           0.036637\n",
       "weekday         0.048201\n",
       "AnimalType      0.062395\n",
       "Name            0.185142\n",
       "AgeuponOutcome  0.265096\n",
       "SexuponOutcome  0.322586"
      ]
     },
     "execution_count": 60,
     "metadata": {},
     "output_type": "execute_result"
    }
   ],
   "source": [
    "pd.DataFrame(\n",
    "search.best_estimator_[\"model\"].feature_importances_\n",
    ", index=column_names\n",
    ").sort_values(by=0)\n"
   ]
  },
  {
   "cell_type": "markdown",
   "metadata": {},
   "source": [
    "# Начало домашки по градиентному бустингу"
   ]
  },
  {
   "cell_type": "code",
   "execution_count": null,
   "metadata": {},
   "outputs": [],
   "source": [
    "## попробуем lightGBM"
   ]
  },
  {
   "cell_type": "code",
   "execution_count": 72,
   "metadata": {},
   "outputs": [],
   "source": [
    "from lightgbm import LGBMClassifier"
   ]
  },
  {
   "cell_type": "code",
   "execution_count": 75,
   "metadata": {},
   "outputs": [
    {
     "name": "stdout",
     "output_type": "stream",
     "text": [
      "                 precision    recall  f1-score   support\n",
      "\n",
      "       Adoption       0.67      0.84      0.75      3231\n",
      "       Transfer       0.74      0.65      0.69      2827\n",
      "Return_to_owner       0.48      0.46      0.47      1436\n",
      "     Euthanasia       0.61      0.20      0.30       466\n",
      "           Died       0.00      0.00      0.00        59\n",
      "\n",
      "       accuracy                           0.66      8019\n",
      "      macro avg       0.50      0.43      0.44      8019\n",
      "   weighted avg       0.65      0.66      0.65      8019\n",
      "\n",
      "Wall time: 3.09 s\n"
     ]
    }
   ],
   "source": [
    "%%time\n",
    "pl = Pipeline([\n",
    "    (\"preprocess\", preprocessing_pipeline),\n",
    "    (\"model\", LGBMClassifier()) \n",
    "])\n",
    "pl.fit(X_train, y_train)\n",
    "y_predicted = pl.predict(X_test)\n",
    "print(classification_report(y_test, y_predicted, target_names =target_dict.keys()))"
   ]
  },
  {
   "cell_type": "markdown",
   "metadata": {},
   "source": [
    "### уже из коробки имеем качество выше чем у RandomForest с пододбором параметров.\n",
    "Попробуем улучшить резутьтат, подобрав оптимальные параметры"
   ]
  },
  {
   "cell_type": "code",
   "execution_count": 82,
   "metadata": {},
   "outputs": [
    {
     "name": "stdout",
     "output_type": "stream",
     "text": [
      "Fitting 5 folds for each of 40 candidates, totalling 200 fits\n"
     ]
    },
    {
     "name": "stderr",
     "output_type": "stream",
     "text": [
      "[Parallel(n_jobs=-1)]: Using backend LokyBackend with 4 concurrent workers.\n",
      "[Parallel(n_jobs=-1)]: Done  42 tasks      | elapsed:  8.4min\n",
      "[Parallel(n_jobs=-1)]: Done 192 tasks      | elapsed: 25.6min\n",
      "[Parallel(n_jobs=-1)]: Done 200 out of 200 | elapsed: 26.6min finished\n"
     ]
    },
    {
     "name": "stdout",
     "output_type": "stream",
     "text": [
      "Wall time: 27min 2s\n"
     ]
    },
    {
     "data": {
      "text/plain": [
       "{'model__n_estimators': 6543,\n",
       " 'model__max_depth': 2,\n",
       " 'model__learning_rate': 0.01}"
      ]
     },
     "execution_count": 82,
     "metadata": {},
     "output_type": "execute_result"
    }
   ],
   "source": [
    "%%time\n",
    "param_grid = {\n",
    "    'model__max_depth': [2,3,5,10,50,100,-1],\n",
    "    'model__learning_rate': [0.01,0.1,0.5,1,10],\n",
    "#     'model__min_samples_leaf': [1,2,5,10,0.01,0.05,0.1,0.2],\n",
    "    'model__n_estimators': np.logspace(0.5,4,20).astype(int)\n",
    "}\n",
    "search = RandomizedSearchCV(pl, param_grid, n_jobs=-1, cv=5, verbose=1,n_iter=40)\n",
    "search.fit(X_train, y_train)\n",
    "search.best_params_"
   ]
  },
  {
   "cell_type": "code",
   "execution_count": 83,
   "metadata": {},
   "outputs": [
    {
     "name": "stdout",
     "output_type": "stream",
     "text": [
      "модель с подобранными параметрами\n",
      "                 precision    recall  f1-score   support\n",
      "\n",
      "       Adoption       0.67      0.83      0.75      3231\n",
      "       Transfer       0.73      0.65      0.69      2827\n",
      "Return_to_owner       0.48      0.46      0.47      1436\n",
      "     Euthanasia       0.58      0.16      0.25       466\n",
      "           Died       0.00      0.00      0.00        59\n",
      "\n",
      "       accuracy                           0.66      8019\n",
      "      macro avg       0.49      0.42      0.43      8019\n",
      "   weighted avg       0.65      0.66      0.64      8019\n",
      "\n"
     ]
    },
    {
     "name": "stderr",
     "output_type": "stream",
     "text": [
      "C:\\Users\\Asus\\Miniconda3\\envs\\otus_ml\\lib\\site-packages\\sklearn\\metrics\\_classification.py:1268: UndefinedMetricWarning: Precision and F-score are ill-defined and being set to 0.0 in labels with no predicted samples. Use `zero_division` parameter to control this behavior.\n",
      "  _warn_prf(average, modifier, msg_start, len(result))\n"
     ]
    }
   ],
   "source": [
    "print(\"модель с подобранными параметрами\")\n",
    "y_predicted = search.predict(X_test)\n",
    "print(classification_report(y_test, y_predicted, target_names =target_dict.keys()))"
   ]
  },
  {
   "cell_type": "markdown",
   "metadata": {},
   "source": [
    "## прироста в качестве не получили\n",
    "# Попробуем теперь Catboost"
   ]
  },
  {
   "cell_type": "code",
   "execution_count": 84,
   "metadata": {},
   "outputs": [],
   "source": [
    "from catboost import CatBoostClassifier"
   ]
  },
  {
   "cell_type": "code",
   "execution_count": 86,
   "metadata": {},
   "outputs": [
    {
     "name": "stdout",
     "output_type": "stream",
     "text": [
      "                 precision    recall  f1-score   support\n",
      "\n",
      "       Adoption       0.67      0.81      0.73      3231\n",
      "       Transfer       0.72      0.65      0.68      2827\n",
      "Return_to_owner       0.46      0.45      0.45      1436\n",
      "     Euthanasia       0.58      0.21      0.31       466\n",
      "           Died       1.00      0.03      0.07        59\n",
      "\n",
      "       accuracy                           0.65      8019\n",
      "      macro avg       0.69      0.43      0.45      8019\n",
      "   weighted avg       0.65      0.65      0.64      8019\n",
      "\n",
      "Wall time: 17 s\n"
     ]
    }
   ],
   "source": [
    "%%time\n",
    "pl = Pipeline([\n",
    "    (\"preprocess\", preprocessing_pipeline),\n",
    "    (\"model\", CatBoostClassifier(logging_level=\"Silent\")) \n",
    "])\n",
    "pl.fit(X_train, y_train)\n",
    "y_predicted = pl.predict(X_test)\n",
    "print(classification_report(y_test, y_predicted, target_names =target_dict.keys()))"
   ]
  },
  {
   "cell_type": "markdown",
   "metadata": {},
   "source": [
    "## качество сопоставимо с lightgbm. Приятный бонус - наконец смогли предсказать исход \"Died\". Ни одна предыдущая модель его не находила.\n",
    "# подберем параметры"
   ]
  },
  {
   "cell_type": "code",
   "execution_count": 88,
   "metadata": {},
   "outputs": [
    {
     "name": "stdout",
     "output_type": "stream",
     "text": [
      "Fitting 3 folds for each of 15 candidates, totalling 45 fits\n"
     ]
    },
    {
     "name": "stderr",
     "output_type": "stream",
     "text": [
      "[Parallel(n_jobs=-1)]: Using backend LokyBackend with 4 concurrent workers.\n",
      "[Parallel(n_jobs=-1)]: Done  45 out of  45 | elapsed:  7.0min finished\n"
     ]
    },
    {
     "name": "stdout",
     "output_type": "stream",
     "text": [
      "Wall time: 7min 12s\n"
     ]
    },
    {
     "data": {
      "text/plain": [
       "{'model__learning_rate': 0.1, 'model__l2_leaf_reg': 8, 'model__depth': 3}"
      ]
     },
     "execution_count": 88,
     "metadata": {},
     "output_type": "execute_result"
    }
   ],
   "source": [
    "%%time\n",
    "param_grid = {\n",
    "    'model__depth': [1,2,3,5],\n",
    "    'model__learning_rate': [0.01,0.1,0.5,1,10],\n",
    "    'model__l2_leaf_reg': [2,5,8,10],\n",
    "#     'model__min_samples_leaf': [1,2,5,10,0.01,0.05,0.1,0.2],\n",
    "#     'model__n_estimators': np.logspace(0.5,4,20).astype(int)\n",
    "}\n",
    "search = RandomizedSearchCV(pl, param_grid, n_jobs=-1, cv=3, verbose=1,n_iter=15)\n",
    "search.fit(X_train, y_train)\n",
    "search.best_params_"
   ]
  },
  {
   "cell_type": "code",
   "execution_count": 89,
   "metadata": {},
   "outputs": [
    {
     "name": "stdout",
     "output_type": "stream",
     "text": [
      "модель с подобранными параметрами\n",
      "                 precision    recall  f1-score   support\n",
      "\n",
      "       Adoption       0.67      0.83      0.74      3231\n",
      "       Transfer       0.72      0.65      0.69      2827\n",
      "Return_to_owner       0.47      0.45      0.46      1436\n",
      "     Euthanasia       0.59      0.17      0.26       466\n",
      "           Died       0.00      0.00      0.00        59\n",
      "\n",
      "       accuracy                           0.65      8019\n",
      "      macro avg       0.49      0.42      0.43      8019\n",
      "   weighted avg       0.65      0.65      0.64      8019\n",
      "\n"
     ]
    },
    {
     "name": "stderr",
     "output_type": "stream",
     "text": [
      "C:\\Users\\Asus\\Miniconda3\\envs\\otus_ml\\lib\\site-packages\\sklearn\\metrics\\_classification.py:1268: UndefinedMetricWarning: Precision and F-score are ill-defined and being set to 0.0 in labels with no predicted samples. Use `zero_division` parameter to control this behavior.\n",
      "  _warn_prf(average, modifier, msg_start, len(result))\n"
     ]
    }
   ],
   "source": [
    "print(\"модель с подобранными параметрами\")\n",
    "y_predicted = search.predict(X_test)\n",
    "print(classification_report(y_test, y_predicted, target_names =target_dict.keys()))"
   ]
  },
  {
   "cell_type": "markdown",
   "metadata": {},
   "source": [
    "## прироста в качестве не получили\n",
    "# Попробуем теперь XGBOOST"
   ]
  },
  {
   "cell_type": "code",
   "execution_count": 92,
   "metadata": {},
   "outputs": [],
   "source": [
    "from  xgboost import XGBClassifier"
   ]
  },
  {
   "cell_type": "code",
   "execution_count": 94,
   "metadata": {},
   "outputs": [
    {
     "name": "stdout",
     "output_type": "stream",
     "text": [
      "                 precision    recall  f1-score   support\n",
      "\n",
      "       Adoption       0.66      0.84      0.74      3231\n",
      "       Transfer       0.72      0.65      0.68      2827\n",
      "Return_to_owner       0.49      0.43      0.46      1436\n",
      "     Euthanasia       0.65      0.14      0.23       466\n",
      "           Died       0.00      0.00      0.00        59\n",
      "\n",
      "       accuracy                           0.65      8019\n",
      "      macro avg       0.50      0.41      0.42      8019\n",
      "   weighted avg       0.65      0.65      0.64      8019\n",
      "\n",
      "Wall time: 7.47 s\n"
     ]
    },
    {
     "name": "stderr",
     "output_type": "stream",
     "text": [
      "C:\\Users\\Asus\\Miniconda3\\envs\\otus_ml\\lib\\site-packages\\sklearn\\metrics\\_classification.py:1268: UndefinedMetricWarning: Precision and F-score are ill-defined and being set to 0.0 in labels with no predicted samples. Use `zero_division` parameter to control this behavior.\n",
      "  _warn_prf(average, modifier, msg_start, len(result))\n"
     ]
    }
   ],
   "source": [
    "%%time\n",
    "pl = Pipeline([\n",
    "    (\"preprocess\", preprocessing_pipeline),\n",
    "    (\"model\", XGBClassifier())\n",
    "])\n",
    "pl.fit(X_train, y_train)\n",
    "y_predicted = pl.predict(X_test)\n",
    "print(classification_report(y_test, y_predicted, target_names =target_dict.keys()))"
   ]
  },
  {
   "cell_type": "markdown",
   "metadata": {},
   "source": [
    "## качество похоже на lightgbm, а работает вдвое дольше. И категорию \"died\" тоже не предсказывает. Подберем параметры"
   ]
  },
  {
   "cell_type": "code",
   "execution_count": 99,
   "metadata": {},
   "outputs": [
    {
     "name": "stdout",
     "output_type": "stream",
     "text": [
      "Fitting 5 folds for each of 20 candidates, totalling 100 fits\n"
     ]
    },
    {
     "name": "stderr",
     "output_type": "stream",
     "text": [
      "[Parallel(n_jobs=-1)]: Using backend LokyBackend with 4 concurrent workers.\n",
      "[Parallel(n_jobs=-1)]: Done  42 tasks      | elapsed:  1.5min\n",
      "[Parallel(n_jobs=-1)]: Done 100 out of 100 | elapsed:  3.6min finished\n"
     ]
    },
    {
     "name": "stdout",
     "output_type": "stream",
     "text": [
      "Wall time: 3min 40s\n"
     ]
    },
    {
     "data": {
      "text/plain": [
       "{'model__learning_rate': 0.5, 'model__depth': 7}"
      ]
     },
     "execution_count": 99,
     "metadata": {},
     "output_type": "execute_result"
    }
   ],
   "source": [
    "%%time\n",
    "param_grid = {\n",
    "    'model__depth': [1,2,3,5,7,9],\n",
    "    'model__learning_rate': [0.01,0.1,0.5,1,10],\n",
    "#     'model__l2_leaf_reg': [2,5,8,10],\n",
    "#     'model__min_samples_leaf': [1,2,5,10,0.01,0.05,0.1,0.2],\n",
    "#     'model__n_estimators': np.logspace(0.5,4,20).astype(int)\n",
    "}\n",
    "search = RandomizedSearchCV(pl, param_grid, n_jobs=-1, cv=5, verbose=1,n_iter=20)\n",
    "search.fit(X_train, y_train)\n",
    "search.best_params_"
   ]
  },
  {
   "cell_type": "code",
   "execution_count": 100,
   "metadata": {},
   "outputs": [
    {
     "name": "stdout",
     "output_type": "stream",
     "text": [
      "модель с подобранными параметрами\n",
      "                 precision    recall  f1-score   support\n",
      "\n",
      "       Adoption       0.67      0.82      0.74      3231\n",
      "       Transfer       0.73      0.66      0.69      2827\n",
      "Return_to_owner       0.48      0.45      0.46      1436\n",
      "     Euthanasia       0.63      0.20      0.30       466\n",
      "           Died       0.00      0.00      0.00        59\n",
      "\n",
      "       accuracy                           0.66      8019\n",
      "      macro avg       0.50      0.43      0.44      8019\n",
      "   weighted avg       0.65      0.66      0.64      8019\n",
      "\n"
     ]
    },
    {
     "name": "stderr",
     "output_type": "stream",
     "text": [
      "C:\\Users\\Asus\\Miniconda3\\envs\\otus_ml\\lib\\site-packages\\sklearn\\metrics\\_classification.py:1268: UndefinedMetricWarning: Precision and F-score are ill-defined and being set to 0.0 in labels with no predicted samples. Use `zero_division` parameter to control this behavior.\n",
      "  _warn_prf(average, modifier, msg_start, len(result))\n"
     ]
    }
   ],
   "source": [
    "print(\"модель с подобранными параметрами\")\n",
    "y_predicted = search.predict(X_test)\n",
    "print(classification_report(y_test, y_predicted, target_names =target_dict.keys()))"
   ]
  },
  {
   "cell_type": "code",
   "execution_count": 101,
   "metadata": {},
   "outputs": [],
   "source": [
    "## опять не получили заметного прироста качества"
   ]
  }
 ],
 "metadata": {
  "kernelspec": {
   "display_name": "Python 3",
   "language": "python",
   "name": "python3"
  },
  "language_info": {
   "codemirror_mode": {
    "name": "ipython",
    "version": 3
   },
   "file_extension": ".py",
   "mimetype": "text/x-python",
   "name": "python",
   "nbconvert_exporter": "python",
   "pygments_lexer": "ipython3",
   "version": "3.7.5"
  }
 },
 "nbformat": 4,
 "nbformat_minor": 2
}
